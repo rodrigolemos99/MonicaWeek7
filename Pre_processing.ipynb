{
 "cells": [
  {
   "cell_type": "code",
   "execution_count": 1,
   "id": "68ab1479-df4d-4f18-a094-476a424e7bfe",
   "metadata": {
    "tags": []
   },
   "outputs": [],
   "source": [
    "import os\n",
    "import cv2\n",
    "import matplotlib.pyplot as plt\n",
    "import pandas as pd\n",
    "import fnmatch\n",
    "import glob"
   ]
  },
  {
   "cell_type": "code",
   "execution_count": 2,
   "id": "d37dc011-c238-4329-9ea2-c4d5bed9576b",
   "metadata": {
    "tags": []
   },
   "outputs": [
    {
     "data": {
      "text/plain": [
       "'/home/aarso2/BPI/Projeto_Semana6'"
      ]
     },
     "execution_count": 2,
     "metadata": {},
     "output_type": "execute_result"
    }
   ],
   "source": [
    "cwd = os.getcwd()\n",
    "cwd"
   ]
  },
  {
   "cell_type": "code",
   "execution_count": 3,
   "id": "cf17289b-5926-40ad-b0a9-de31b0573d2f",
   "metadata": {
    "tags": []
   },
   "outputs": [],
   "source": [
    "def pre_processing_dataset(path):\n",
    "    \n",
    "    # Obtém uma lista de todas as pastas no diretório raiz\n",
    "    folders = glob.glob(os.path.join(path, '*'))\n",
    "\n",
    "    # Itera sobre cada pasta encontrada\n",
    "    for folder in folders:\n",
    "        # Obtém o nome da pasta\n",
    "        folder_name = os.path.basename(folder)\n",
    "\n",
    "        # Obtém uma lista de arquivos de imagem na pasta atual\n",
    "        images = glob.glob(os.path.join(folder, '*.jpg')) + glob.glob(os.path.join(folder, '*.png'))  # Adicione outros formatos de imagem, se necessário\n",
    "\n",
    "        # Itera sobre cada imagem na pasta atual\n",
    "        for image in images:\n",
    "            # Obtém o nome da imagem\n",
    "            image_name = os.path.basename(image)\n",
    "\n",
    "            # Define o novo nome da imagem\n",
    "            new_name = f'{folder_name}_{image_name}'\n",
    "\n",
    "            # Obtém o caminho completo do novo nome da imagem\n",
    "            new_path = os.path.join(path, new_name)\n",
    "\n",
    "            # Renomeia o arquivo\n",
    "            os.rename(image, new_path)\n",
    "\n",
    "            remain_images = glob.glob(os.path.join(folder, '*.jpg')) + glob.glob(os.path.join(folder, '*.png'))\n",
    "            if not remain_images:\n",
    "                os.rmdir(folder)\n"
   ]
  },
  {
   "cell_type": "code",
   "execution_count": 52,
   "id": "2ef5db85-602c-40e2-a83a-a10dc207fd27",
   "metadata": {
    "tags": []
   },
   "outputs": [],
   "source": [
    "anger_train = cwd + '/BPI-MELD-main/train/train_splits_images/anger/'\n",
    "joy_train = cwd + '/BPI-MELD-main/train/train_splits_images/joy/'\n",
    "neutral_train = cwd + '/BPI-MELD-main/train/train_splits_images/neutral/'\n",
    "\n",
    "pre_processing_dataset(anger_train)\n",
    "pre_processing_dataset(joy_train)\n",
    "pre_processing_dataset(neutral_train)"
   ]
  },
  {
   "cell_type": "code",
   "execution_count": 53,
   "id": "6696bd04-2619-4089-8703-fe1f68c7e3bf",
   "metadata": {
    "tags": []
   },
   "outputs": [
    {
     "name": "stdout",
     "output_type": "stream",
     "text": [
      "Number of .jpg images in the folder anger: 3322\n",
      "Number of .jpg images in the folder joy: 5222\n",
      "Number of .jpg images in the folder neutral: 6265\n"
     ]
    }
   ],
   "source": [
    "# Use glob to find all .jpg files in the folder\n",
    "train_files_anger = len(glob.glob(os.path.join(anger_train, '*.jpg')))\n",
    "train_files_joy = len(glob.glob(os.path.join(joy_train, '*.jpg')))\n",
    "train_files_neutral = len(glob.glob(os.path.join(neutral_train, '*.jpg')))\n",
    "\n",
    "# Print the count\n",
    "print(f'Number of .jpg images in the train folder anger: {train_files_anger}')\n",
    "print(f'Number of .jpg images in the train folder joy: {train_files_joy}')\n",
    "print(f'Number of .jpg images in the train folder neutral: {train_files_neutral}')"
   ]
  },
  {
   "cell_type": "code",
   "execution_count": 4,
   "id": "86e60c8c-63f0-4802-920e-984b8a8c6e8f",
   "metadata": {
    "tags": []
   },
   "outputs": [],
   "source": [
    "anger_dev = cwd + '/BPI-MELD-main/dev/dev_splits_images/anger/'\n",
    "joy_dev = cwd + '/BPI-MELD-main/dev/dev_splits_images/joy/'\n",
    "neutral_dev = cwd + '/BPI-MELD-main/dev/dev_splits_images/neutral/'\n",
    "\n",
    "pre_processing_dataset(anger_dev)\n",
    "pre_processing_dataset(joy_dev)\n",
    "pre_processing_dataset(neutral_dev)"
   ]
  },
  {
   "cell_type": "code",
   "execution_count": 5,
   "id": "90d1d5fa-1ada-405d-ada1-cb3d5f7660b0",
   "metadata": {
    "tags": []
   },
   "outputs": [
    {
     "name": "stdout",
     "output_type": "stream",
     "text": [
      "Number of .jpg images in the dev folder anger: 457\n",
      "Number of .jpg images in the dev folder joy: 489\n",
      "Number of .jpg images in the dev folder neutral: 582\n"
     ]
    }
   ],
   "source": [
    "# Use glob to find all .jpg files in the folder\n",
    "dev_files_anger = len(glob.glob(os.path.join(anger_dev, '*.jpg')))\n",
    "dev_files_joy = len(glob.glob(os.path.join(joy_dev, '*.jpg')))\n",
    "dev_files_neutral = len(glob.glob(os.path.join(neutral_dev, '*.jpg')))\n",
    "\n",
    "# Print the count\n",
    "print(f'Number of .jpg images in the dev folder anger: {dev_files_anger}')\n",
    "print(f'Number of .jpg images in the dev folder joy: {dev_files_joy}')\n",
    "print(f'Number of .jpg images in the dev folder neutral: {dev_files_neutral}')"
   ]
  },
  {
   "cell_type": "code",
   "execution_count": null,
   "id": "ca31d924-776d-4594-ab2c-5aef57757538",
   "metadata": {},
   "outputs": [],
   "source": [
    "face_cascade = cv2.CascadeClassifier(cv2.data.haarcascades + 'haarcascade_frontalface_default.xml')"
   ]
  },
  {
   "cell_type": "code",
   "execution_count": null,
   "id": "a0fa3b57-6a41-4130-9e19-d94527df5162",
   "metadata": {},
   "outputs": [],
   "source": [
    "def faces_save(path, folder, path_type):\n",
    "    faces_list = []\n",
    "    \n",
    "    if path_type == \"train\":\n",
    "        new_dir = os.path.join(cwd + '/BPI-MELD-main/train/train_splits_images/', folder + '_oneface/')\n",
    "    else:\n",
    "        new_dir = os.path.join(cwd + '/BPI-MELD-main/dev/dev_splits_images/', folder + '_oneface/')\n",
    "        \n",
    "    anger_images = glob.glob(os.path.join(path, '*.jpg'))\n",
    "\n",
    "    for images in anger_images:\n",
    "        image = cv2.imread(images)\n",
    "        gray_image = cv2.cvtColor(image, cv2.COLOR_BGR2GRAY)\n",
    "        faces = face_cascade.detectMultiScale(gray_image, scaleFactor=1.1, minNeighbors=5, minSize=(30, 30))\n",
    "\n",
    "        if len(faces) != 0:\n",
    "            if (faces.shape[0] == 1):\n",
    "                new_image = image.copy()\n",
    "\n",
    "                for (x, y, w, h) in faces:\n",
    "                    # Extract the region of interest (ROI) from the image\n",
    "                    face_roi = new_image[y:y + h, x:x + w]\n",
    "\n",
    "                # Define the file path for the cropped face\n",
    "                face_path = os.path.join(images.split('/')[-1])\n",
    "                # Save the cropped face to the file\n",
    "                cv2.imwrite(new_dir + face_path, face_roi)"
   ]
  },
  {
   "cell_type": "code",
   "execution_count": null,
   "id": "e6a6ecbc-6d50-4537-9682-8ed67576cb89",
   "metadata": {},
   "outputs": [],
   "source": [
    "anger_train = cwd + '/BPI-MELD-main/train/train_splits_images/anger/'\n",
    "joy_train = cwd + '/BPI-MELD-main/train/train_splits_images/joy/'\n",
    "neutral_train = cwd + '/BPI-MELD-main/train/train_splits_images/neutral/'\n",
    "faces_save(anger_train, 'anger','train')\n",
    "faces_save(joy_train, 'joy', 'train')\n",
    "faces_save(neutral_train, 'neutral', 'train')"
   ]
  },
  {
   "cell_type": "code",
   "execution_count": null,
   "id": "11858409-5b17-4fcb-a3e5-659620c69764",
   "metadata": {},
   "outputs": [],
   "source": [
    "anger_faces_percentage_train = (len(glob.glob(os.path.join(cwd+'/BPI-MELD-main/train/train_splits_images/anger_oneface/', '*.jpg')))/len(glob.glob(os.path.join(anger_train, '*.jpg')))) * 100\n",
    "joy_faces_percentage_train = (len(glob.glob(os.path.join(cwd+'/BPI-MELD-main/train/train_splits_images/joy_oneface/', '*.jpg')))/len(glob.glob(os.path.join(joy_train, '*.jpg')))) * 100\n",
    "neutral_faces_percentage_train = (len(glob.glob(os.path.join(cwd+'/BPI-MELD-main/train/train_splits_images/neutral_oneface/', '*.jpg')))/len(glob.glob(os.path.join(neutral_train, '*.jpg')))) * 100\n",
    "\n",
    "print('Anger one face percentage of train: ' + str(anger_faces_percentage_train))\n",
    "print('Joy one face percentage of train: ' + str(joy_faces_percentage_train))\n",
    "print('Neutral one face percentage of train: ' + str(neutral_faces_percentage_train))"
   ]
  },
  {
   "cell_type": "code",
   "execution_count": null,
   "id": "4c3f723b-1c37-48fc-b778-b0a2a3a1458c",
   "metadata": {},
   "outputs": [],
   "source": [
    "anger_dev = cwd + '/BPI-MELD-main/dev/dev_splits_images/anger/'\n",
    "joy_dev = cwd + '/BPI-MELD-main/dev/dev_splits_images/joy/'\n",
    "neutral_dev = cwd + '/BPI-MELD-main/dev/dev_splits_images/neutral/'\n",
    "faces_save(anger_dev, 'anger','dev')\n",
    "faces_save(joy_dev, 'joy', 'dev')\n",
    "faces_save(neutral_dev, 'neutral', 'dev')"
   ]
  },
  {
   "cell_type": "code",
   "execution_count": null,
   "id": "78bf354c-656e-4946-ab24-260ae20c8d6b",
   "metadata": {},
   "outputs": [],
   "source": [
    "anger_faces_percentage_dev = (len(glob.glob(os.path.join(cwd+'/BPI-MELD-main/dev/dev_splits_images/anger_oneface/', '*.jpg')))/len(glob.glob(os.path.join(anger_dev, '*.jpg')))) * 100\n",
    "joy_faces_percentage_dev = (len(glob.glob(os.path.join(cwd+'/BPI-MELD-main/dev/dev_splits_images/joy_oneface/', '*.jpg')))/len(glob.glob(os.path.join(joy_dev, '*.jpg')))) * 100\n",
    "neutral_faces_percentage_dev = (len(glob.glob(os.path.join(cwd+'/BPI-MELD-main/dev/dev_splits_images/neutral_oneface/', '*.jpg')))/len(glob.glob(os.path.join(neutral_dev, '*.jpg')))) * 100\n",
    "\n",
    "print('Anger one face percentage of dev: ' + str(anger_faces_percentage_dev))\n",
    "print('Joy one face percentage of dev: ' + str(joy_faces_percentage_dev))\n",
    "print('Neutral one face percentage of dev: ' + str(neutral_faces_percentage_dev))"
   ]
  },
  {
   "cell_type": "code",
   "execution_count": null,
   "id": "a0fd2f65-34f2-4453-8475-8378928f36b8",
   "metadata": {},
   "outputs": [],
   "source": [
    "# Specify the path to the 'anger' folder\n",
    "folder_path = cwd+'/BPI-MELD-main/train/train_splits_images/anger_oneface/'\n",
    "\n",
    "# Initialize variables to store total width and height\n",
    "total_width = 0\n",
    "total_height = 0\n",
    "total_images = 0\n",
    "\n",
    "# Loop through the images in the folder\n",
    "for filename in os.listdir(folder_path):\n",
    "    image_path = os.path.join(folder_path, filename)\n",
    "    image = cv2.imread(image_path)\n",
    "    if image is not None:\n",
    "        height, width, _ = image.shape  # Get the height and width of the image\n",
    "        total_width += width\n",
    "        total_height += height\n",
    "        total_images += 1\n",
    "\n",
    "# Calculate the mean width and height\n",
    "if total_images > 0:\n",
    "    mean_width = total_width / total_images\n",
    "    mean_height = total_height / total_images\n",
    "    print(f\"Mean Image Width: {mean_width} pixels\")\n",
    "    print(f\"Mean Image Height: {mean_height} pixels\")\n",
    "else:\n",
    "    print(\"No valid images found in the folder.\")"
   ]
  },
  {
   "cell_type": "code",
   "execution_count": 4,
   "id": "33d7ae93-e3ee-4e94-bdfe-48b0e3807058",
   "metadata": {
    "tags": []
   },
   "outputs": [],
   "source": [
    "test_path = cwd + '/BPI-MELD-main/test/'\n",
    "\n",
    "pre_processing_dataset(test_path)"
   ]
  },
  {
   "cell_type": "code",
   "execution_count": 5,
   "id": "b74eed66-3bd1-47b6-9e19-8a49e5bc6290",
   "metadata": {
    "tags": []
   },
   "outputs": [],
   "source": [
    "face_cascade = cv2.CascadeClassifier(cv2.data.haarcascades + 'haarcascade_frontalface_default.xml')"
   ]
  },
  {
   "cell_type": "code",
   "execution_count": 7,
   "id": "809e82e6-83e6-45cf-971c-f11d90abdc83",
   "metadata": {
    "tags": []
   },
   "outputs": [],
   "source": [
    "test_images = glob.glob(os.path.join(test_path, '*.jpg'))\n",
    "new_dir = os.path.join(cwd + '/BPI-MELD-main/test/', 'test_oneface/')\n",
    "\n",
    "for images in test_images:\n",
    "    image = cv2.imread(images)\n",
    "    gray_image = cv2.cvtColor(image, cv2.COLOR_BGR2GRAY)\n",
    "    faces = face_cascade.detectMultiScale(gray_image, scaleFactor=1.1, minNeighbors=5, minSize=(30, 30))\n",
    "\n",
    "    if len(faces) != 0:\n",
    "        if (faces.shape[0] == 1):\n",
    "            new_image = image.copy()\n",
    "\n",
    "            for (x, y, w, h) in faces:\n",
    "                # Extract the region of interest (ROI) from the image\n",
    "                face_roi = new_image[y:y + h, x:x + w]\n",
    "\n",
    "            # Define the file path for the cropped face\n",
    "            face_path = os.path.join(images.split('/')[-1])\n",
    "            # Save the cropped face to the file\n",
    "            cv2.imwrite(new_dir + face_path, face_roi)"
   ]
  },
  {
   "cell_type": "code",
   "execution_count": null,
   "id": "81e583ee-3e89-4be0-863c-07a2800b3281",
   "metadata": {},
   "outputs": [],
   "source": []
  }
 ],
 "metadata": {
  "kernelspec": {
   "display_name": "Python 3 (ipykernel)",
   "language": "python",
   "name": "python3"
  },
  "language_info": {
   "codemirror_mode": {
    "name": "ipython",
    "version": 3
   },
   "file_extension": ".py",
   "mimetype": "text/x-python",
   "name": "python",
   "nbconvert_exporter": "python",
   "pygments_lexer": "ipython3",
   "version": "3.10.6"
  }
 },
 "nbformat": 4,
 "nbformat_minor": 5
}
