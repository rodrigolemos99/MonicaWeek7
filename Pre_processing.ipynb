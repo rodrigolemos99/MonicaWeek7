{
 "cells": [
  {
   "cell_type": "code",
   "execution_count": 49,
   "id": "68ab1479-df4d-4f18-a094-476a424e7bfe",
   "metadata": {
    "tags": []
   },
   "outputs": [],
   "source": [
    "import os\n",
    "import cv2\n",
    "import matplotlib.pyplot as plt\n",
    "import pandas as pd\n",
    "import fnmatch\n",
    "import glob"
   ]
  },
  {
   "cell_type": "code",
   "execution_count": 50,
   "id": "d37dc011-c238-4329-9ea2-c4d5bed9576b",
   "metadata": {
    "tags": []
   },
   "outputs": [
    {
     "data": {
      "text/plain": [
       "'/home/aarso2/BPI/Projeto_Semana6'"
      ]
     },
     "execution_count": 50,
     "metadata": {},
     "output_type": "execute_result"
    }
   ],
   "source": [
    "cwd = os.getcwd()\n",
    "cwd "
   ]
  },
  {
   "cell_type": "code",
   "execution_count": 51,
   "id": "cf17289b-5926-40ad-b0a9-de31b0573d2f",
   "metadata": {
    "tags": []
   },
   "outputs": [],
   "source": [
    "def pre_processing_dataset(path):\n",
    "    \n",
    "    # Obtém uma lista de todas as pastas no diretório raiz\n",
    "    folders = glob.glob(os.path.join(path, '*'))\n",
    "\n",
    "    # Itera sobre cada pasta encontrada\n",
    "    for folder in folders:\n",
    "        # Obtém o nome da pasta\n",
    "        folder_name = os.path.basename(folder)\n",
    "\n",
    "        # Obtém uma lista de arquivos de imagem na pasta atual\n",
    "        images = glob.glob(os.path.join(folder, '*.jpg')) + glob.glob(os.path.join(folder, '*.png'))  # Adicione outros formatos de imagem, se necessário\n",
    "\n",
    "        # Itera sobre cada imagem na pasta atual\n",
    "        for image in images:\n",
    "            # Obtém o nome da imagem\n",
    "            image_name = os.path.basename(image)\n",
    "\n",
    "            # Define o novo nome da imagem\n",
    "            new_name = f'{folder_name}_{image_name}'\n",
    "\n",
    "            # Obtém o caminho completo do novo nome da imagem\n",
    "            new_path = os.path.join(path, new_name)\n",
    "\n",
    "            # Renomeia o arquivo\n",
    "            os.rename(image, new_path)\n",
    "\n",
    "            remain_images = glob.glob(os.path.join(folder, '*.jpg')) + glob.glob(os.path.join(folder, '*.png'))\n",
    "            if not remain_images:\n",
    "                os.rmdir(folder)\n"
   ]
  },
  {
   "cell_type": "code",
   "execution_count": 52,
   "id": "2ef5db85-602c-40e2-a83a-a10dc207fd27",
   "metadata": {
    "tags": []
   },
   "outputs": [],
   "source": [
    "anger = cwd + '/BPI-MELD-main/train/train_splits_images/anger/'\n",
    "joy = cwd + '/BPI-MELD-main/train/train_splits_images/joy/'\n",
    "neutral = cwd + '/BPI-MELD-main/train/train_splits_images/neutral/'\n",
    "\n",
    "pre_processing_dataset(anger)\n",
    "pre_processing_dataset(joy)\n",
    "pre_processing_dataset(neutral)"
   ]
  },
  {
   "cell_type": "code",
   "execution_count": 53,
   "id": "6696bd04-2619-4089-8703-fe1f68c7e3bf",
   "metadata": {
    "tags": []
   },
   "outputs": [
    {
     "name": "stdout",
     "output_type": "stream",
     "text": [
      "Number of .jpg images in the folder anger: 3322\n",
      "Number of .jpg images in the folder joy: 5222\n",
      "Number of .jpg images in the folder neutral: 6265\n"
     ]
    }
   ],
   "source": [
    "# Use glob to find all .jpg files in the folder\n",
    "jpg_files_anger = len(glob.glob(os.path.join(anger, '*.jpg')))\n",
    "jpg_files_joy = len(glob.glob(os.path.join(joy, '*.jpg')))\n",
    "jpg_files_neutral = len(glob.glob(os.path.join(neutral, '*.jpg')))\n",
    "\n",
    "# Print the count\n",
    "print(f'Number of .jpg images in the folder anger: {jpg_files_anger}')\n",
    "print(f'Number of .jpg images in the folder joy: {jpg_files_joy}')\n",
    "print(f'Number of .jpg images in the folder neutral: {jpg_files_neutral}')"
   ]
  },
  {
   "cell_type": "code",
   "execution_count": null,
   "id": "02dd218c-a74a-44bd-b0f5-28b02e5e8bed",
   "metadata": {},
   "outputs": [],
   "source": []
  }
 ],
 "metadata": {
  "kernelspec": {
   "display_name": "Python 3 (ipykernel)",
   "language": "python",
   "name": "python3"
  },
  "language_info": {
   "codemirror_mode": {
    "name": "ipython",
    "version": 3
   },
   "file_extension": ".py",
   "mimetype": "text/x-python",
   "name": "python",
   "nbconvert_exporter": "python",
   "pygments_lexer": "ipython3",
   "version": "3.10.6"
  }
 },
 "nbformat": 4,
 "nbformat_minor": 5
}
