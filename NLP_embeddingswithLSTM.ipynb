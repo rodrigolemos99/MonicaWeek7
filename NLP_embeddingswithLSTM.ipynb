{
 "cells": [
  {
   "cell_type": "code",
   "execution_count": 1,
   "metadata": {},
   "outputs": [],
   "source": [
    "import pandas as pd\n",
    "import matplotlib.pyplot as plt\n",
    "import seaborn as sns\n",
    "from wordcloud import WordCloud, STOPWORDS, ImageColorGenerator\n",
    "\n",
    "import numpy as np"
   ]
  },
  {
   "cell_type": "code",
   "execution_count": 2,
   "metadata": {},
   "outputs": [],
   "source": [
    "df_train = pd.read_csv('train_sent_emo.csv', index_col=0)\n",
    "df_dev = pd.read_csv('dev_sent_emo.csv', index_col=0)"
   ]
  },
  {
   "cell_type": "code",
   "execution_count": 3,
   "metadata": {},
   "outputs": [],
   "source": [
    "#convert utt to str\n",
    "df_train['Utterance'] = df_train['Utterance'].astype(str)\n",
    "df_dev['Utterance'] = df_dev['Utterance'].astype(str)"
   ]
  },
  {
   "cell_type": "code",
   "execution_count": 4,
   "metadata": {},
   "outputs": [],
   "source": [
    "#Create a new column named 'image_names' in the DataFrame to store the image file names\n",
    "\n",
    "df_train['image_names'] = df_train.apply(lambda row: f'dia{row[\"Dialogue_ID\"]}_utt{row[\"Utterance_ID\"]}', axis=1)\n",
    "df_dev['image_names'] = df_dev.apply(lambda row: f'dia{row[\"Dialogue_ID\"]}_utt{row[\"Utterance_ID\"]}', axis=1)\n"
   ]
  },
  {
   "cell_type": "code",
   "execution_count": 5,
   "metadata": {},
   "outputs": [
    {
     "name": "stdout",
     "output_type": "stream",
     "text": [
      "3375\n",
      "359\n"
     ]
    }
   ],
   "source": [
    "import glob\n",
    "import os\n",
    "\n",
    "cwd = os.getcwd()\n",
    "\n",
    "path_anger = cwd + '/BPI-MELD-main/BPI-MELD-main/train/train_splits_images/anger_oneface/'\n",
    "path_joy = cwd + '/BPI-MELD-main/BPI-MELD-main/train/train_splits_images/joy_oneface/'\n",
    "path_neutral = cwd + '/BPI-MELD-main/BPI-MELD-main/train/train_splits_images/neutral_oneface/'\n",
    "path_anger_dev = cwd + '/BPI-MELD-main/BPI-MELD-main/dev/dev_splits_images/anger_oneface/'\n",
    "path_joy_dev = cwd + '/BPI-MELD-main/BPI-MELD-main/dev/dev_splits_images/joy_oneface/'\n",
    "path_neutral_dev = cwd + '/BPI-MELD-main/BPI-MELD-main/dev/dev_splits_images/neutral_oneface/'\n",
    "\n",
    "files_anger = glob.glob(os.path.join(path_anger, '*.jpg'))\n",
    "files_joy = glob.glob(os.path.join(path_joy, '*.jpg'))\n",
    "files_neutral = glob.glob(os.path.join(path_neutral, '*.jpg'))\n",
    "files_anger_dev = glob.glob(os.path.join(path_anger_dev, '*.jpg'))\n",
    "files_joy_dev = glob.glob(os.path.join(path_joy_dev, '*.jpg'))\n",
    "files_neutral_dev = glob.glob(os.path.join(path_neutral_dev, '*.jpg'))\n",
    "\n",
    "files_anger = set([file.split(\"\\x5c\")[-1][:-6] for file in files_anger])\n",
    "files_joy = set([file.split(\"\\x5c\")[-1][:-6] for file in files_joy])\n",
    "files_neutral = set([file.split(\"\\x5c\")[-1][:-6] for file in files_neutral])\n",
    "files_anger_dev = set([file.split(\"\\x5c\")[-1][:-6] for file in files_anger_dev])\n",
    "files_joy_dev = set([file.split(\"\\x5c\")[-1][:-6] for file in files_joy_dev])\n",
    "files_neutral_dev = set([file.split(\"\\x5c\")[-1][:-6] for file in files_neutral_dev])\n",
    "\n",
    "all_files = files_anger.union(files_joy).union(files_neutral)\n",
    "all_files_dev = files_anger_dev.union(files_joy_dev).union(files_neutral_dev)\n",
    "\n",
    "print(len(all_files))\n",
    "print(len(all_files_dev))\n",
    "\n",
    "# all_files_train_dev = all_files.union(all_files_dev)"
   ]
  },
  {
   "cell_type": "code",
   "execution_count": 6,
   "metadata": {},
   "outputs": [],
   "source": [
    "df_train = df_train[df_train['image_names'].isin(list(all_files))]\n",
    "df_dev = df_dev[df_dev['image_names'].isin(list(all_files_dev))]\n"
   ]
  },
  {
   "cell_type": "code",
   "execution_count": 7,
   "metadata": {},
   "outputs": [
    {
     "data": {
      "text/plain": [
       "neutral    1460\n",
       "joy        1145\n",
       "anger       770\n",
       "Name: Emotion, dtype: int64"
      ]
     },
     "execution_count": 7,
     "metadata": {},
     "output_type": "execute_result"
    }
   ],
   "source": [
    "df_train.Emotion.value_counts()"
   ]
  },
  {
   "cell_type": "code",
   "execution_count": 8,
   "metadata": {},
   "outputs": [
    {
     "data": {
      "text/plain": [
       "neutral    129\n",
       "anger      120\n",
       "joy        110\n",
       "Name: Emotion, dtype: int64"
      ]
     },
     "execution_count": 8,
     "metadata": {},
     "output_type": "execute_result"
    }
   ],
   "source": [
    "df_dev.Emotion.value_counts()"
   ]
  },
  {
   "cell_type": "code",
   "execution_count": 9,
   "metadata": {},
   "outputs": [
    {
     "name": "stderr",
     "output_type": "stream",
     "text": [
      "[nltk_data] Downloading package stopwords to\n",
      "[nltk_data]     C:\\Users\\USER\\AppData\\Roaming\\nltk_data...\n",
      "[nltk_data]   Package stopwords is already up-to-date!\n"
     ]
    }
   ],
   "source": [
    "from nltk.corpus import stopwords\n",
    "from nltk.stem import SnowballStemmer\n",
    "from nltk.stem.wordnet import WordNetLemmatizer\n",
    "import nltk\n",
    "import re\n",
    "from tqdm import tqdm\n",
    "\n",
    "lemma = WordNetLemmatizer()\n",
    "nltk.download('stopwords')\n",
    "stop = set(stopwords.words('english'))\n",
    "stemmer = SnowballStemmer('english')\n",
    "\n",
    "def clean(text_list, lemmatize, stem, stopwords):\n",
    "\n",
    "    updates = []\n",
    "\n",
    "    for j in tqdm(text_list):\n",
    "\n",
    "        text = str(j)\n",
    "        #Regular expressions:\n",
    "\n",
    "        #LOWERCASE TEXT\n",
    "        text = text.lower()\n",
    "        # Remove special characters and punctuations\n",
    "        # text = re.sub('[^a-zA-Z0-9\\s]', '', text)\n",
    "        # text = re.sub(\"br\", \"\", text)\n",
    "        # text = re.sub(\"x000d\", \"\", text)\n",
    "        # text = re.sub(\"x000D\", \"\", text)\n",
    "        # Remove HTML tags\n",
    "        # text = re.sub('<.*?>', '', text)\n",
    "        # Remove extra whitespaces\n",
    "        text = re.sub('\\s+', ' ', text).strip()\n",
    "\n",
    "        #REMOVE STOPWORDS\n",
    "        if stopwords:\n",
    "\n",
    "          text = \" \".join([word for word in text.split() if word not in stop])\n",
    "\n",
    "        #Lemmatize\n",
    "        if lemmatize:\n",
    "          text = \" \".join(lemma.lemmatize(word) for word in text.split())\n",
    "\n",
    "        #Stemming\n",
    "        if stem:\n",
    "          text = \" \".join(stemmer.stem(word) for word in text.split() if word)\n",
    "\n",
    "\n",
    "        updates.append(text)\n",
    "\n",
    "    return updates"
   ]
  },
  {
   "cell_type": "code",
   "execution_count": 10,
   "metadata": {},
   "outputs": [
    {
     "name": "stderr",
     "output_type": "stream",
     "text": [
      "100%|██████████| 3375/3375 [00:01<00:00, 3078.10it/s]\n",
      "100%|██████████| 359/359 [00:00<00:00, 51306.91it/s]\n"
     ]
    }
   ],
   "source": [
    "df_train['Utterance_cleaned'] = clean(df_train['Utterance'] , lemmatize=True, stem=False, stopwords=True)\n",
    "df_dev['Utterance_cleaned'] = clean(df_dev['Utterance'] , lemmatize=True, stem=False, stopwords=True)\n"
   ]
  },
  {
   "cell_type": "markdown",
   "metadata": {},
   "source": [
    "## FastText"
   ]
  },
  {
   "cell_type": "code",
   "execution_count": 11,
   "metadata": {},
   "outputs": [],
   "source": [
    "df_fast_text = df_train.copy()\n",
    "df_fast_text_dev = df_dev.copy()"
   ]
  },
  {
   "cell_type": "code",
   "execution_count": 12,
   "metadata": {},
   "outputs": [],
   "source": [
    "y_train = df_fast_text['Emotion']\n",
    "y_test = df_fast_text_dev['Emotion']\n",
    "\n",
    "#save image_names to use latter\n",
    "image_names = df_fast_text['image_names']\n",
    "image_names_dev = df_fast_text_dev['image_names']\n",
    "\n",
    "df_fast_text.drop(columns=['Emotion', 'image_names'], inplace=True)\n",
    "df_fast_text_dev.drop(columns=['Emotion', 'image_names'], inplace=True)\n",
    "\n",
    "X_train_ft = df_fast_text.copy()\n",
    "X_test_ft = df_fast_text_dev.copy()"
   ]
  },
  {
   "cell_type": "code",
   "execution_count": 13,
   "metadata": {},
   "outputs": [],
   "source": [
    "import gensim\n",
    "from gensim.models import Word2Vec, FastText\n",
    "import tensorflow as tf\n",
    "\n",
    "model_ft = FastText(sentences = X_train_ft.Utterance_cleaned, min_count = 1, vector_size = 300, sg = 0, cbow_mean = 1, hs = 1,\n",
    "                    window = 5, alpha = 0.05, min_alpha = 0.0001, negative = 4, epochs = 35, sample = 1e-3, workers = 1, seed = 1, batch_words = 75,\n",
    "                    min_n = 2, max_n = 4)\n",
    "\n",
    "train_vectors = [[model_ft.wv[word] for word in text] for text in X_train_ft['Utterance_cleaned']]       \n",
    "    \n",
    "pad_len = 20\n",
    "\n",
    "train_vectors = tf.keras.utils.pad_sequences(train_vectors, maxlen = pad_len, dtype='float32', padding='post', truncating='post', value=0)"
   ]
  },
  {
   "cell_type": "code",
   "execution_count": 14,
   "metadata": {},
   "outputs": [],
   "source": [
    "val_vectors = [[model_ft.wv[word] for word in text] \n",
    "                 for text in X_test_ft['Utterance_cleaned']]  \n",
    "\n",
    "val_vectors = tf.keras.utils.pad_sequences(val_vectors, maxlen = pad_len, dtype='float32', padding='post', truncating='post', value=0)"
   ]
  },
  {
   "cell_type": "markdown",
   "metadata": {},
   "source": [
    "## LSTM"
   ]
  },
  {
   "cell_type": "code",
   "execution_count": 15,
   "metadata": {},
   "outputs": [],
   "source": [
    "from keras.utils import to_categorical\n",
    "\n",
    "y_train_cat = y_train.replace({'neutral':0,'anger':1,'joy':2})\n",
    "y_val_cat = y_test.replace({'neutral':0,'anger':1,'joy':2})\n",
    "\n",
    "y_train_cat = to_categorical(y_train_cat)\n",
    "y_val_cat = to_categorical(y_val_cat)"
   ]
  },
  {
   "cell_type": "code",
   "execution_count": 16,
   "metadata": {},
   "outputs": [],
   "source": [
    "from keras.layers import Input, Flatten, Concatenate, Dense, Bidirectional, LSTM, Dropout, InputLayer, Conv1D, Conv2D, MaxPool1D, MaxPool2D, Masking, TimeDistributed, Attention, Activation\n",
    "from tensorflow.keras.metrics import Precision, Recall\n",
    "import keras\n",
    "from keras.models import Sequential\n",
    "\n",
    "precision, recall = Precision(), Recall()\n",
    "\n",
    "def get_model (lr):\n",
    "\n",
    "    text = Input(shape = (20, 300))\n",
    "    lstm1 = Bidirectional(LSTM(300, return_sequences = False, input_shape = (20, 300), dropout=0.3))(text)\n",
    "    dense = Dense(3, activation = 'softmax')(lstm1)\n",
    "    \n",
    "    model = keras.Model(inputs=text, outputs=dense, name=\"Context_bLSTM_text_model\")\n",
    "\n",
    "    model.compile(loss='categorical_crossentropy', optimizer = keras.optimizers.Adam(learning_rate = lr), metrics=['accuracy', precision, recall], sample_weight_mode='temporal', weighted_metrics=[])\n",
    "    \n",
    "    return model"
   ]
  },
  {
   "cell_type": "code",
   "execution_count": 17,
   "metadata": {},
   "outputs": [
    {
     "name": "stdout",
     "output_type": "stream",
     "text": [
      "Model: \"Context_bLSTM_text_model\"\n",
      "_________________________________________________________________\n",
      " Layer (type)                Output Shape              Param #   \n",
      "=================================================================\n",
      " input_1 (InputLayer)        [(None, 20, 300)]         0         \n",
      "                                                                 \n",
      " bidirectional (Bidirection  (None, 600)               1442400   \n",
      " al)                                                             \n",
      "                                                                 \n",
      " dense (Dense)               (None, 3)                 1803      \n",
      "                                                                 \n",
      "=================================================================\n",
      "Total params: 1444203 (5.51 MB)\n",
      "Trainable params: 1444203 (5.51 MB)\n",
      "Non-trainable params: 0 (0.00 Byte)\n",
      "_________________________________________________________________\n",
      "None\n"
     ]
    }
   ],
   "source": [
    "model = get_model(lr=0.01)\n",
    "\n",
    "print(model.summary())"
   ]
  },
  {
   "cell_type": "code",
   "execution_count": 18,
   "metadata": {},
   "outputs": [
    {
     "name": "stdout",
     "output_type": "stream",
     "text": [
      "Epoch 1/10\n",
      "53/53 [==============================] - ETA: 0s - loss: 1.0608 - accuracy: 0.4536 - precision: 0.5161 - recall: 0.0142\n",
      "Epoch 1: val_loss improved from inf to 1.10189, saving model to weights_Ind_text_Context_LSTM_model_lr_fasttext.best.hdf5\n",
      "53/53 [==============================] - 13s 160ms/step - loss: 1.0608 - accuracy: 0.4536 - precision: 0.5161 - recall: 0.0142 - val_loss: 1.1019 - val_accuracy: 0.4290 - val_precision: 0.2500 - val_recall: 0.0139\n",
      "Epoch 2/10\n"
     ]
    },
    {
     "name": "stderr",
     "output_type": "stream",
     "text": [
      "c:\\Users\\USER\\AppData\\Local\\Programs\\Python\\Python311\\Lib\\site-packages\\keras\\src\\engine\\training.py:3079: UserWarning: You are saving your model as an HDF5 file via `model.save()`. This file format is considered legacy. We recommend using instead the native Keras format, e.g. `model.save('my_model.keras')`.\n",
      "  saving_api.save_model(\n"
     ]
    },
    {
     "name": "stdout",
     "output_type": "stream",
     "text": [
      "53/53 [==============================] - ETA: 0s - loss: 1.0030 - accuracy: 0.5289 - precision: 0.6179 - recall: 0.1576\n",
      "Epoch 2: val_loss did not improve from 1.10189\n",
      "53/53 [==============================] - 8s 146ms/step - loss: 1.0030 - accuracy: 0.5289 - precision: 0.6179 - recall: 0.1576 - val_loss: 1.1053 - val_accuracy: 0.4735 - val_precision: 0.4375 - val_recall: 0.2730\n",
      "Epoch 3/10\n",
      "53/53 [==============================] - ETA: 0s - loss: 0.9672 - accuracy: 0.5508 - precision: 0.6126 - recall: 0.3079\n",
      "Epoch 3: val_loss improved from 1.10189 to 1.02423, saving model to weights_Ind_text_Context_LSTM_model_lr_fasttext.best.hdf5\n",
      "53/53 [==============================] - 8s 144ms/step - loss: 0.9672 - accuracy: 0.5508 - precision: 0.6126 - recall: 0.3079 - val_loss: 1.0242 - val_accuracy: 0.4540 - val_precision: 0.5339 - val_recall: 0.1755\n",
      "Epoch 4/10\n",
      "53/53 [==============================] - ETA: 0s - loss: 0.9470 - accuracy: 0.5594 - precision: 0.6369 - recall: 0.3399\n",
      "Epoch 4: val_loss did not improve from 1.02423\n",
      "53/53 [==============================] - 8s 148ms/step - loss: 0.9470 - accuracy: 0.5594 - precision: 0.6369 - recall: 0.3399 - val_loss: 1.0296 - val_accuracy: 0.4763 - val_precision: 0.5123 - val_recall: 0.2897\n",
      "Epoch 5/10\n",
      "53/53 [==============================] - ETA: 0s - loss: 0.9375 - accuracy: 0.5644 - precision: 0.6399 - recall: 0.3849\n",
      "Epoch 5: val_loss did not improve from 1.02423\n",
      "53/53 [==============================] - 9s 163ms/step - loss: 0.9375 - accuracy: 0.5644 - precision: 0.6399 - recall: 0.3849 - val_loss: 1.0454 - val_accuracy: 0.4819 - val_precision: 0.4922 - val_recall: 0.3510\n",
      "Epoch 6/10\n",
      "53/53 [==============================] - ETA: 0s - loss: 0.9266 - accuracy: 0.5701 - precision: 0.6430 - recall: 0.3896\n",
      "Epoch 6: val_loss did not improve from 1.02423\n",
      "53/53 [==============================] - 9s 165ms/step - loss: 0.9266 - accuracy: 0.5701 - precision: 0.6430 - recall: 0.3896 - val_loss: 1.0393 - val_accuracy: 0.4708 - val_precision: 0.4886 - val_recall: 0.3593\n",
      "Epoch 1/10\n",
      "53/53 [==============================] - ETA: 0s - loss: 1.0213 - accuracy: 0.4951 - precision: 0.5709 - recall: 0.2619\n",
      "Epoch 1: val_loss improved from inf to 1.06588, saving model to weights_Ind_text_Context_LSTM_model_lr_fasttext.best.hdf5\n",
      "53/53 [==============================] - 13s 181ms/step - loss: 1.0213 - accuracy: 0.4951 - precision: 0.5709 - recall: 0.2619 - val_loss: 1.0659 - val_accuracy: 0.4290 - val_precision: 0.4823 - val_recall: 0.1894\n",
      "Epoch 2/10\n",
      "53/53 [==============================] - ETA: 0s - loss: 0.9339 - accuracy: 0.5609 - precision: 0.6410 - recall: 0.3867\n",
      "Epoch 2: val_loss improved from 1.06588 to 1.01442, saving model to weights_Ind_text_Context_LSTM_model_lr_fasttext.best.hdf5\n",
      "53/53 [==============================] - 9s 164ms/step - loss: 0.9339 - accuracy: 0.5609 - precision: 0.6410 - recall: 0.3867 - val_loss: 1.0144 - val_accuracy: 0.4903 - val_precision: 0.5126 - val_recall: 0.3955\n",
      "Epoch 3/10\n",
      "53/53 [==============================] - ETA: 0s - loss: 0.9176 - accuracy: 0.5760 - precision: 0.6387 - recall: 0.4264\n",
      "Epoch 3: val_loss did not improve from 1.01442\n",
      "53/53 [==============================] - 9s 161ms/step - loss: 0.9176 - accuracy: 0.5760 - precision: 0.6387 - recall: 0.4264 - val_loss: 1.0186 - val_accuracy: 0.5097 - val_precision: 0.5401 - val_recall: 0.3565\n",
      "Epoch 4/10\n",
      "53/53 [==============================] - ETA: 0s - loss: 0.8908 - accuracy: 0.5970 - precision: 0.6609 - recall: 0.4527\n",
      "Epoch 4: val_loss did not improve from 1.01442\n",
      "53/53 [==============================] - 9s 165ms/step - loss: 0.8908 - accuracy: 0.5970 - precision: 0.6609 - recall: 0.4527 - val_loss: 1.0322 - val_accuracy: 0.4930 - val_precision: 0.5333 - val_recall: 0.3120\n",
      "Epoch 5/10\n",
      "53/53 [==============================] - ETA: 0s - loss: 0.8778 - accuracy: 0.5935 - precision: 0.6630 - recall: 0.4785\n",
      "Epoch 5: val_loss improved from 1.01442 to 1.00966, saving model to weights_Ind_text_Context_LSTM_model_lr_fasttext.best.hdf5\n",
      "53/53 [==============================] - 9s 165ms/step - loss: 0.8778 - accuracy: 0.5935 - precision: 0.6630 - recall: 0.4785 - val_loss: 1.0097 - val_accuracy: 0.5014 - val_precision: 0.5481 - val_recall: 0.3649\n",
      "Epoch 6/10\n",
      "53/53 [==============================] - ETA: 0s - loss: 0.8458 - accuracy: 0.6246 - precision: 0.6803 - recall: 0.5159\n",
      "Epoch 6: val_loss did not improve from 1.00966\n",
      "53/53 [==============================] - 9s 164ms/step - loss: 0.8458 - accuracy: 0.6246 - precision: 0.6803 - recall: 0.5159 - val_loss: 1.0525 - val_accuracy: 0.4819 - val_precision: 0.5108 - val_recall: 0.3955\n",
      "Epoch 7/10\n",
      "53/53 [==============================] - ETA: 0s - loss: 0.7988 - accuracy: 0.6456 - precision: 0.6974 - recall: 0.5627\n",
      "Epoch 7: val_loss did not improve from 1.00966\n",
      "53/53 [==============================] - 9s 165ms/step - loss: 0.7988 - accuracy: 0.6456 - precision: 0.6974 - recall: 0.5627 - val_loss: 1.0805 - val_accuracy: 0.4847 - val_precision: 0.5152 - val_recall: 0.4262\n",
      "Epoch 8/10\n",
      "53/53 [==============================] - ETA: 0s - loss: 0.7511 - accuracy: 0.6696 - precision: 0.7203 - recall: 0.6006\n",
      "Epoch 8: val_loss did not improve from 1.00966\n",
      "53/53 [==============================] - 9s 167ms/step - loss: 0.7511 - accuracy: 0.6696 - precision: 0.7203 - recall: 0.6006 - val_loss: 1.1149 - val_accuracy: 0.5181 - val_precision: 0.5288 - val_recall: 0.4345\n",
      "Epoch 1/10\n",
      "53/53 [==============================] - ETA: 0s - loss: 1.1839 - accuracy: 0.4237 - precision: 0.4787 - recall: 0.1926\n",
      "Epoch 1: val_loss improved from inf to 1.09159, saving model to weights_Ind_text_Context_LSTM_model_lr_fasttext.best.hdf5\n",
      "53/53 [==============================] - 13s 184ms/step - loss: 1.1839 - accuracy: 0.4237 - precision: 0.4787 - recall: 0.1926 - val_loss: 1.0916 - val_accuracy: 0.4039 - val_precision: 0.5750 - val_recall: 0.1281\n",
      "Epoch 2/10\n",
      "53/53 [==============================] - ETA: 0s - loss: 1.0002 - accuracy: 0.5212 - precision: 0.5923 - recall: 0.3470\n",
      "Epoch 2: val_loss improved from 1.09159 to 1.06078, saving model to weights_Ind_text_Context_LSTM_model_lr_fasttext.best.hdf5\n",
      "53/53 [==============================] - 8s 157ms/step - loss: 1.0002 - accuracy: 0.5212 - precision: 0.5923 - recall: 0.3470 - val_loss: 1.0608 - val_accuracy: 0.3983 - val_precision: 0.4859 - val_recall: 0.1922\n",
      "Epoch 3/10\n",
      "53/53 [==============================] - ETA: 0s - loss: 0.9419 - accuracy: 0.5692 - precision: 0.6251 - recall: 0.4154\n",
      "Epoch 3: val_loss did not improve from 1.06078\n",
      "53/53 [==============================] - 8s 154ms/step - loss: 0.9419 - accuracy: 0.5692 - precision: 0.6251 - recall: 0.4154 - val_loss: 1.0922 - val_accuracy: 0.4708 - val_precision: 0.4659 - val_recall: 0.3621\n",
      "Epoch 4/10\n",
      "53/53 [==============================] - ETA: 0s - loss: 0.9206 - accuracy: 0.5707 - precision: 0.6295 - recall: 0.4436\n",
      "Epoch 4: val_loss improved from 1.06078 to 1.00625, saving model to weights_Ind_text_Context_LSTM_model_lr_fasttext.best.hdf5\n",
      "53/53 [==============================] - 8s 150ms/step - loss: 0.9206 - accuracy: 0.5707 - precision: 0.6295 - recall: 0.4436 - val_loss: 1.0062 - val_accuracy: 0.5070 - val_precision: 0.5419 - val_recall: 0.3426\n",
      "Epoch 5/10\n",
      "53/53 [==============================] - ETA: 0s - loss: 0.8984 - accuracy: 0.5867 - precision: 0.6447 - recall: 0.4501\n",
      "Epoch 5: val_loss did not improve from 1.00625\n",
      "53/53 [==============================] - 8s 146ms/step - loss: 0.8984 - accuracy: 0.5867 - precision: 0.6447 - recall: 0.4501 - val_loss: 1.0376 - val_accuracy: 0.5181 - val_precision: 0.5242 - val_recall: 0.3928\n",
      "Epoch 6/10\n",
      "53/53 [==============================] - ETA: 0s - loss: 0.8599 - accuracy: 0.6083 - precision: 0.6699 - recall: 0.4930\n",
      "Epoch 6: val_loss did not improve from 1.00625\n",
      "53/53 [==============================] - 8s 148ms/step - loss: 0.8599 - accuracy: 0.6083 - precision: 0.6699 - recall: 0.4930 - val_loss: 1.0963 - val_accuracy: 0.4819 - val_precision: 0.5058 - val_recall: 0.3621\n",
      "Epoch 7/10\n",
      "53/53 [==============================] - ETA: 0s - loss: 0.8446 - accuracy: 0.6187 - precision: 0.6808 - recall: 0.5081\n",
      "Epoch 7: val_loss did not improve from 1.00625\n",
      "53/53 [==============================] - 8s 145ms/step - loss: 0.8446 - accuracy: 0.6187 - precision: 0.6808 - recall: 0.5081 - val_loss: 1.0457 - val_accuracy: 0.4708 - val_precision: 0.5057 - val_recall: 0.3677\n"
     ]
    }
   ],
   "source": [
    "learning_rates = [0.0001,0.005,0.01]\n",
    "\n",
    "for l_r in learning_rates:\n",
    "    \n",
    "    Ind_text_Context_LSTM_model_lr_fasttext = get_model(lr=l_r)\n",
    "    \n",
    "    filepath=\"weights_Ind_text_Context_LSTM_model_lr_fasttext.best.hdf5\"\n",
    "    checkpoint = tf.keras.callbacks.ModelCheckpoint(filepath, monitor='val_loss', verbose=1, save_best_only=True, mode='min')\n",
    "    es = tf.keras.callbacks.EarlyStopping(monitor='val_loss', min_delta=0.0001, patience=3, restore_best_weights=True)\n",
    "    callbacks_list = [checkpoint, es]\n",
    "\n",
    "    hist = Ind_text_Context_LSTM_model_lr_fasttext.fit(train_vectors, y_train_cat, validation_data=(val_vectors, y_val_cat), \n",
    "                    callbacks=callbacks_list, epochs=10, batch_size=64, verbose=1, shuffle=True)\n"
   ]
  },
  {
   "cell_type": "code",
   "execution_count": 19,
   "metadata": {},
   "outputs": [
    {
     "name": "stdout",
     "output_type": "stream",
     "text": [
      "12/12 [==============================] - 1s 36ms/step\n",
      "Independent LSTM Accuracy Score ->  50.69637883008357\n"
     ]
    }
   ],
   "source": [
    "from sklearn.metrics import classification_report, accuracy_score, confusion_matrix, ConfusionMatrixDisplay, precision_recall_fscore_support\n",
    "\n",
    "pred = (Ind_text_Context_LSTM_model_lr_fasttext.predict(val_vectors))\n",
    "\n",
    "true_label=[]\n",
    "predicted_label=[]\n",
    "\n",
    "for i in range(pred.shape[0]):\n",
    "\ttrue_label.append(np.argmax(y_val_cat[i] ))\n",
    "\tpredicted_label.append(np.argmax(pred[i]))\n",
    "            \n",
    "print(\"Independent LSTM Accuracy Score -> \",accuracy_score(predicted_label, true_label)*100)"
   ]
  },
  {
   "cell_type": "code",
   "execution_count": 20,
   "metadata": {},
   "outputs": [
    {
     "name": "stdout",
     "output_type": "stream",
     "text": [
      "Classification Report :\n",
      "              precision    recall  f1-score   support\n",
      "\n",
      "           0       0.51      0.84      0.64       129\n",
      "           1       0.49      0.33      0.40       120\n",
      "           2       0.51      0.31      0.38       110\n",
      "\n",
      "    accuracy                           0.51       359\n",
      "   macro avg       0.50      0.49      0.47       359\n",
      "weighted avg       0.50      0.51      0.48       359\n",
      "\n",
      "Weighted Scores: \n",
      "  (0.5033435599752057, 0.5069637883008357, 0.4790510577893703, None)\n"
     ]
    }
   ],
   "source": [
    "print(\"Classification Report :\")\n",
    "print(classification_report(true_label, predicted_label))\n",
    "print('Weighted Scores: \\n ', precision_recall_fscore_support(true_label, predicted_label, average='weighted'))"
   ]
  },
  {
   "cell_type": "code",
   "execution_count": 21,
   "metadata": {},
   "outputs": [
    {
     "data": {
      "image/png": "[encoded data removed]",
      "text/plain": [
       "<Figure size 640x480 with 2 Axes>"
      ]
     },
     "metadata": {},
     "output_type": "display_data"
    }
   ],
   "source": [
    "labels = ['Neutral', 'Anger', 'joy']\n",
    "\n",
    "cf = confusion_matrix(true_label, predicted_label)\n",
    "disp = ConfusionMatrixDisplay(cf, display_labels=labels)\n",
    "disp.plot()\n",
    "plt.show()"
   ]
  },
  {
   "cell_type": "code",
   "execution_count": 22,
   "metadata": {},
   "outputs": [
    {
     "name": "stdout",
     "output_type": "stream",
     "text": [
      "0.01\n"
     ]
    }
   ],
   "source": [
    "import keras.backend as K\n",
    "\n",
    "print(K.eval(Ind_text_Context_LSTM_model_lr_fasttext.optimizer.lr))\n"
   ]
  },
  {
   "cell_type": "markdown",
   "metadata": {},
   "source": [
    "Get predictions"
   ]
  },
  {
   "cell_type": "code",
   "execution_count": 23,
   "metadata": {},
   "outputs": [
    {
     "data": {
      "text/html": [
       "<div>\n",
       "<style scoped>\n",
       "    .dataframe tbody tr th:only-of-type {\n",
       "        vertical-align: middle;\n",
       "    }\n",
       "\n",
       "    .dataframe tbody tr th {\n",
       "        vertical-align: top;\n",
       "    }\n",
       "\n",
       "    .dataframe thead th {\n",
       "        text-align: right;\n",
       "    }\n",
       "</style>\n",
       "<table border=\"1\" class=\"dataframe\">\n",
       "  <thead>\n",
       "    <tr style=\"text-align: right;\">\n",
       "      <th></th>\n",
       "      <th>Utterance</th>\n",
       "      <th>Speaker</th>\n",
       "      <th>Emotion</th>\n",
       "      <th>Sentiment</th>\n",
       "      <th>Dialogue_ID</th>\n",
       "      <th>Utterance_ID</th>\n",
       "      <th>Season</th>\n",
       "      <th>Episode</th>\n",
       "      <th>StartTime</th>\n",
       "      <th>EndTime</th>\n",
       "      <th>image_names</th>\n",
       "    </tr>\n",
       "    <tr>\n",
       "      <th>Sr No.</th>\n",
       "      <th></th>\n",
       "      <th></th>\n",
       "      <th></th>\n",
       "      <th></th>\n",
       "      <th></th>\n",
       "      <th></th>\n",
       "      <th></th>\n",
       "      <th></th>\n",
       "      <th></th>\n",
       "      <th></th>\n",
       "      <th></th>\n",
       "    </tr>\n",
       "  </thead>\n",
       "  <tbody>\n",
       "    <tr>\n",
       "      <th>1</th>\n",
       "      <td>Why do all you’re coffee mugs have numbers on ...</td>\n",
       "      <td>Mark</td>\n",
       "      <td>surprise</td>\n",
       "      <td>none</td>\n",
       "      <td>0</td>\n",
       "      <td>0</td>\n",
       "      <td>3</td>\n",
       "      <td>19</td>\n",
       "      <td>00:14:38,127</td>\n",
       "      <td>00:14:40,378</td>\n",
       "      <td>dia0_utt0</td>\n",
       "    </tr>\n",
       "    <tr>\n",
       "      <th>2</th>\n",
       "      <td>Oh. That’s so Monica can keep track. That way ...</td>\n",
       "      <td>Rachel</td>\n",
       "      <td>none</td>\n",
       "      <td>none</td>\n",
       "      <td>0</td>\n",
       "      <td>1</td>\n",
       "      <td>3</td>\n",
       "      <td>19</td>\n",
       "      <td>00:14:40,629</td>\n",
       "      <td>00:14:47,385</td>\n",
       "      <td>dia0_utt1</td>\n",
       "    </tr>\n",
       "    <tr>\n",
       "      <th>3</th>\n",
       "      <td>Y'know what?</td>\n",
       "      <td>Rachel</td>\n",
       "      <td>none</td>\n",
       "      <td>none</td>\n",
       "      <td>0</td>\n",
       "      <td>2</td>\n",
       "      <td>3</td>\n",
       "      <td>19</td>\n",
       "      <td>00:14:56,353</td>\n",
       "      <td>00:14:57,520</td>\n",
       "      <td>dia0_utt2</td>\n",
       "    </tr>\n",
       "    <tr>\n",
       "      <th>19</th>\n",
       "      <td>Come on, Lydia, you can do it.</td>\n",
       "      <td>Joey</td>\n",
       "      <td>none</td>\n",
       "      <td>none</td>\n",
       "      <td>1</td>\n",
       "      <td>0</td>\n",
       "      <td>1</td>\n",
       "      <td>23</td>\n",
       "      <td>0:10:44,769</td>\n",
       "      <td>0:10:46,146</td>\n",
       "      <td>dia1_utt0</td>\n",
       "    </tr>\n",
       "    <tr>\n",
       "      <th>20</th>\n",
       "      <td>Push!</td>\n",
       "      <td>Joey</td>\n",
       "      <td>none</td>\n",
       "      <td>none</td>\n",
       "      <td>1</td>\n",
       "      <td>1</td>\n",
       "      <td>1</td>\n",
       "      <td>23</td>\n",
       "      <td>0:10:46,146</td>\n",
       "      <td>0:10:46,833</td>\n",
       "      <td>dia1_utt1</td>\n",
       "    </tr>\n",
       "    <tr>\n",
       "      <th>...</th>\n",
       "      <td>...</td>\n",
       "      <td>...</td>\n",
       "      <td>...</td>\n",
       "      <td>...</td>\n",
       "      <td>...</td>\n",
       "      <td>...</td>\n",
       "      <td>...</td>\n",
       "      <td>...</td>\n",
       "      <td>...</td>\n",
       "      <td>...</td>\n",
       "      <td>...</td>\n",
       "    </tr>\n",
       "    <tr>\n",
       "      <th>2760</th>\n",
       "      <td>Yeah, I mean, come on Ross, no one will even n...</td>\n",
       "      <td>Rachel</td>\n",
       "      <td>none</td>\n",
       "      <td>none</td>\n",
       "      <td>279</td>\n",
       "      <td>11</td>\n",
       "      <td>6</td>\n",
       "      <td>4</td>\n",
       "      <td>00:14:35,457</td>\n",
       "      <td>00:14:40,211</td>\n",
       "      <td>dia279_utt11</td>\n",
       "    </tr>\n",
       "    <tr>\n",
       "      <th>2761</th>\n",
       "      <td>They’re not listening too me?</td>\n",
       "      <td>Ross</td>\n",
       "      <td>surprise</td>\n",
       "      <td>none</td>\n",
       "      <td>279</td>\n",
       "      <td>12</td>\n",
       "      <td>6</td>\n",
       "      <td>4</td>\n",
       "      <td>00:14:42,256</td>\n",
       "      <td>00:14:43,840</td>\n",
       "      <td>dia279_utt12</td>\n",
       "    </tr>\n",
       "    <tr>\n",
       "      <th>2762</th>\n",
       "      <td>Of course they’re listening to you! Everybody ...</td>\n",
       "      <td>Rachel</td>\n",
       "      <td>none</td>\n",
       "      <td>none</td>\n",
       "      <td>279</td>\n",
       "      <td>13</td>\n",
       "      <td>6</td>\n",
       "      <td>4</td>\n",
       "      <td>00:14:44,008</td>\n",
       "      <td>00:14:48,511</td>\n",
       "      <td>dia279_utt13</td>\n",
       "    </tr>\n",
       "    <tr>\n",
       "      <th>2763</th>\n",
       "      <td>Monica you really think I should try this phas...</td>\n",
       "      <td>Ross</td>\n",
       "      <td>none</td>\n",
       "      <td>none</td>\n",
       "      <td>279</td>\n",
       "      <td>14</td>\n",
       "      <td>6</td>\n",
       "      <td>4</td>\n",
       "      <td>00:14:48,138</td>\n",
       "      <td>00:14:52,390</td>\n",
       "      <td>dia279_utt14</td>\n",
       "    </tr>\n",
       "    <tr>\n",
       "      <th>2764</th>\n",
       "      <td>I think you look fine.</td>\n",
       "      <td>Monica</td>\n",
       "      <td>none</td>\n",
       "      <td>none</td>\n",
       "      <td>279</td>\n",
       "      <td>15</td>\n",
       "      <td>6</td>\n",
       "      <td>4</td>\n",
       "      <td>00:14:52,558</td>\n",
       "      <td>00:14:54,183</td>\n",
       "      <td>dia279_utt15</td>\n",
       "    </tr>\n",
       "  </tbody>\n",
       "</table>\n",
       "<p>2610 rows × 11 columns</p>\n",
       "</div>"
      ],
      "text/plain": [
       "                                                Utterance Speaker   Emotion  \\\n",
       "Sr No.                                                                        \n",
       "1       Why do all you’re coffee mugs have numbers on ...    Mark  surprise   \n",
       "2       Oh. That’s so Monica can keep track. That way ...  Rachel      none   \n",
       "3                                            Y'know what?  Rachel      none   \n",
       "19                         Come on, Lydia, you can do it.    Joey      none   \n",
       "20                                                  Push!    Joey      none   \n",
       "...                                                   ...     ...       ...   \n",
       "2760    Yeah, I mean, come on Ross, no one will even n...  Rachel      none   \n",
       "2761                        They’re not listening too me?    Ross  surprise   \n",
       "2762    Of course they’re listening to you! Everybody ...  Rachel      none   \n",
       "2763    Monica you really think I should try this phas...    Ross      none   \n",
       "2764                               I think you look fine.  Monica      none   \n",
       "\n",
       "       Sentiment  Dialogue_ID  Utterance_ID  Season  Episode     StartTime  \\\n",
       "Sr No.                                                                       \n",
       "1           none            0             0       3       19  00:14:38,127   \n",
       "2           none            0             1       3       19  00:14:40,629   \n",
       "3           none            0             2       3       19  00:14:56,353   \n",
       "19          none            1             0       1       23   0:10:44,769   \n",
       "20          none            1             1       1       23   0:10:46,146   \n",
       "...          ...          ...           ...     ...      ...           ...   \n",
       "2760        none          279            11       6        4  00:14:35,457   \n",
       "2761        none          279            12       6        4  00:14:42,256   \n",
       "2762        none          279            13       6        4  00:14:44,008   \n",
       "2763        none          279            14       6        4  00:14:48,138   \n",
       "2764        none          279            15       6        4  00:14:52,558   \n",
       "\n",
       "             EndTime   image_names  \n",
       "Sr No.                              \n",
       "1       00:14:40,378     dia0_utt0  \n",
       "2       00:14:47,385     dia0_utt1  \n",
       "3       00:14:57,520     dia0_utt2  \n",
       "19       0:10:46,146     dia1_utt0  \n",
       "20       0:10:46,833     dia1_utt1  \n",
       "...              ...           ...  \n",
       "2760    00:14:40,211  dia279_utt11  \n",
       "2761    00:14:43,840  dia279_utt12  \n",
       "2762    00:14:48,511  dia279_utt13  \n",
       "2763    00:14:52,390  dia279_utt14  \n",
       "2764    00:14:54,183  dia279_utt15  \n",
       "\n",
       "[2610 rows x 11 columns]"
      ]
     },
     "execution_count": 23,
     "metadata": {},
     "output_type": "execute_result"
    }
   ],
   "source": [
    "df_test = pd.read_csv('test_sent_emo.csv', index_col=0)\n",
    "df_test['image_names'] = df_test.apply(lambda row: f'dia{row[\"Dialogue_ID\"]}_utt{row[\"Utterance_ID\"]}', axis=1)\n",
    "df_test"
   ]
  },
  {
   "cell_type": "code",
   "execution_count": 24,
   "metadata": {},
   "outputs": [
    {
     "name": "stderr",
     "output_type": "stream",
     "text": [
      "100%|██████████| 2610/2610 [00:00<00:00, 49216.97it/s]\n"
     ]
    }
   ],
   "source": [
    "df_test['Utterance_cleaned'] = clean(df_test['Utterance'] , lemmatize=True, stem=False, stopwords=True)"
   ]
  },
  {
   "cell_type": "code",
   "execution_count": 25,
   "metadata": {},
   "outputs": [],
   "source": [
    "test_vectors = [[model_ft.wv[word] for word in text] \n",
    "                 for text in df_test['Utterance']]  \n",
    "\n",
    "test_vectors = tf.keras.utils.pad_sequences(test_vectors, maxlen = pad_len, dtype='float32', padding='post', truncating='post', value=0)"
   ]
  },
  {
   "cell_type": "code",
   "execution_count": 26,
   "metadata": {},
   "outputs": [
    {
     "name": "stdout",
     "output_type": "stream",
     "text": [
      "82/82 [==============================] - 3s 40ms/step\n"
     ]
    }
   ],
   "source": [
    "pred_final = (Ind_text_Context_LSTM_model_lr_fasttext.predict(test_vectors))"
   ]
  },
  {
   "cell_type": "code",
   "execution_count": 27,
   "metadata": {},
   "outputs": [],
   "source": [
    "predicted_label_final = []\n",
    "\n",
    "for i in range(pred_final.shape[0]):\n",
    "\tpredicted_label_final.append(np.argmax(pred_final[i]))\n",
    "\n",
    "final_predictions = pd.DataFrame(predicted_label_final, columns = ['Prediction'])"
   ]
  },
  {
   "cell_type": "code",
   "execution_count": 28,
   "metadata": {},
   "outputs": [],
   "source": [
    "df_test['image_names'] = df_test['image_names'] + ','\n",
    "\n",
    "final_predictions = pd.concat([df_test['image_names'].reset_index(drop=True), final_predictions], axis=1)\n",
    "\n",
    "final_predictions = final_predictions.replace({0:'neutral',1:'anger',2:'joy'})\n"
   ]
  },
  {
   "cell_type": "code",
   "execution_count": 29,
   "metadata": {},
   "outputs": [
    {
     "data": {
      "text/plain": [
       "array([['dia0_utt0,', 'neutral'],\n",
       "       ['dia0_utt1,', 'neutral'],\n",
       "       ['dia0_utt2,', 'neutral'],\n",
       "       ...,\n",
       "       ['dia279_utt13,', 'joy'],\n",
       "       ['dia279_utt14,', 'neutral'],\n",
       "       ['dia279_utt15,', 'joy']], dtype=object)"
      ]
     },
     "execution_count": 29,
     "metadata": {},
     "output_type": "execute_result"
    }
   ],
   "source": [
    "final_predictions.values"
   ]
  },
  {
   "cell_type": "code",
   "execution_count": 30,
   "metadata": {},
   "outputs": [],
   "source": [
    "np.savetxt(r'C:\\\\Users\\\\USER\\\\Desktop\\\\BPI\\\\Week 7\\\\projeto\\\\NLP_lstm.txt', final_predictions.values, fmt='%s')"
   ]
  }
 ],
 "metadata": {
  "kernelspec": {
   "display_name": "base",
   "language": "python",
   "name": "python3"
  },
  "language_info": {
   "codemirror_mode": {
    "name": "ipython",
    "version": 3
   },
   "file_extension": ".py",
   "mimetype": "text/x-python",
   "name": "python",
   "nbconvert_exporter": "python",
   "pygments_lexer": "ipython3",
   "version": "3.11.5"
  }
 },
 "nbformat": 4,
 "nbformat_minor": 2
}
