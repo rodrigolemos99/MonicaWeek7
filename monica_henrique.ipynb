{
 "cells": [
  {
   "cell_type": "code",
   "execution_count": 1,
   "metadata": {
    "tags": []
   },
   "outputs": [],
   "source": [
    "import pandas as pd\n",
    "import cv2\n",
    "import numpy as np\n",
    "import matplotlib.pyplot as plt\n",
    "import glob\n",
    "import os\n",
    "from PIL import Image\n",
    "from typing import Type\n",
    "import torch\n",
    "from torch import Tensor\n",
    "import torch.optim as optim\n",
    "import torch.nn as nn\n",
    "from torch.nn import Flatten\n",
    "import torchvision \n",
    "import torchvision.transforms as T\n",
    "import torchvision.models as models\n",
    "from torch.utils.data import DataLoader, Dataset\n",
    "import seaborn as sns\n",
    "from sklearn.metrics import accuracy_score, confusion_matrix\n",
    "\n",
    "import warnings\n",
    "warnings.filterwarnings(\"ignore\")"
   ]
  },
  {
   "cell_type": "code",
   "execution_count": 2,
   "metadata": {
    "tags": []
   },
   "outputs": [
    {
     "data": {
      "text/plain": [
       "'/home/aarso2/BPI/Projeto_Semana6'"
      ]
     },
     "execution_count": 2,
     "metadata": {},
     "output_type": "execute_result"
    }
   ],
   "source": [
    "cwd = os.getcwd()\n",
    "cwd"
   ]
  },
  {
   "cell_type": "markdown",
   "metadata": {
    "tags": []
   },
   "source": [
    "#### Criação do DataLoader de treino e validação"
   ]
  },
  {
   "cell_type": "code",
   "execution_count": 3,
   "metadata": {
    "tags": []
   },
   "outputs": [],
   "source": [
    "class DatasetEmotions(torch.utils.data.Dataset):\n",
    "    def __init__(self,path, transforms = None):\n",
    "        super().__init__()\n",
    "        self.path = path\n",
    "        self.images = glob.glob(os.path.join(self.path,\"*_oneface/*\"))\n",
    "        self.labels = {\"anger\":0,\"joy\":1,\"neutral\":2}\n",
    "        self.transforms = transforms\n",
    "    def __getimages__(self):\n",
    "        return self.images\n",
    "    def __getitem__(self,idx):\n",
    "        image = cv2.imread(self.images[idx])\n",
    "        if self.transforms != None: \n",
    "            image = self.transforms(image)\n",
    "        return image, self.labels[self.images[idx].split(\"/\")[-2].replace(\"_oneface\", \"\")]\n",
    "\n",
    "    def __len__(self):\n",
    "        return len(self.images)"
   ]
  },
  {
   "cell_type": "code",
   "execution_count": 4,
   "metadata": {
    "tags": []
   },
   "outputs": [],
   "source": [
    "# Define your data folder and optional image transformations\n",
    "train_path = cwd+'/BPI-MELD-main/train/train_splits_images/'\n",
    "dev_path = cwd+'/BPI-MELD-main/dev/dev_splits_images/'\n",
    "\n",
    "transforming = T.Compose([T.ToPILImage(), T.Resize((112, 112)), T.ToTensor(), T.Normalize(mean=[0.485, 0.456, 0.406], std=[0.229, 0.224, 0.225])])\n",
    "\n",
    "# Create the custom dataset and data loader\n",
    "train_dataset = DatasetEmotions(train_path, transforms=transforming)\n",
    "dev_dataset = DatasetEmotions(dev_path, transforms=transforming)\n",
    "train_data = DataLoader(train_dataset, batch_size=32, shuffle=True)\n",
    "dev_data = DataLoader(dev_dataset, batch_size=32, shuffle=True)"
   ]
  },
  {
   "cell_type": "code",
   "execution_count": 5,
   "metadata": {
    "tags": []
   },
   "outputs": [],
   "source": [
    "#Get path images\n",
    "path_name_dev = dev_dataset.__getimages__()\n",
    "file_name_dev = []\n",
    "\n",
    "for file in path_name_dev:\n",
    "    file_name_dev.append(file.split(\"/\")[-1].replace(\".jpg\", \"\"))"
   ]
  },
  {
   "cell_type": "code",
   "execution_count": 6,
   "metadata": {
    "tags": []
   },
   "outputs": [],
   "source": [
    "#Função auxiliar\n",
    "def mode(group):\n",
    "    mode_label = group.mode()\n",
    "    if len(mode_label) == 1:\n",
    "        return mode_label.iloc[0]\n",
    "    else:\n",
    "        return 999"
   ]
  },
  {
   "cell_type": "code",
   "execution_count": 7,
   "metadata": {},
   "outputs": [
    {
     "name": "stdout",
     "output_type": "stream",
     "text": [
      "Total de amostras no conjunto de dados de treino: 5760\n",
      "Total de amostras no conjunto de dados de teste: 672\n"
     ]
    }
   ],
   "source": [
    "total_samples_train = len(train_data) * train_data.batch_size\n",
    "total_samples_dev = len(dev_data) * dev_data.batch_size\n",
    "print(f\"Total de amostras no conjunto de dados de treino: {total_samples_train}\")\n",
    "print(f\"Total de amostras no conjunto de dados de teste: {total_samples_dev}\")"
   ]
  },
  {
   "cell_type": "markdown",
   "metadata": {
    "jp-MarkdownHeadingCollapsed": true,
    "tags": []
   },
   "source": [
    "#### Convolutional Neural Network (CNN) baseline"
   ]
  },
  {
   "cell_type": "code",
   "execution_count": 7,
   "metadata": {
    "tags": []
   },
   "outputs": [],
   "source": [
    "# Define the neural network model\n",
    "class EmotionRecognitionNet(nn.Module):\n",
    "    def __init__(self, num_classes):\n",
    "        super(EmotionRecognitionNet, self).__init__()\n",
    "        self.conv_layers = nn.Sequential(\n",
    "            nn.Conv2d(3, 64, kernel_size=3, stride=1, padding=1),\n",
    "            nn.ReLU(),\n",
    "            nn.MaxPool2d(kernel_size=2, stride=2),\n",
    "            nn.Conv2d(64, 128, kernel_size=3, stride=1, padding=1),\n",
    "            nn.ReLU(),\n",
    "            nn.MaxPool2d(kernel_size=2, stride=2),\n",
    "            nn.Conv2d(128, 256, kernel_size=3, stride=1, padding=1),\n",
    "            nn.ReLU(),\n",
    "            nn.MaxPool2d(kernel_size=2, stride=2)\n",
    "        )\n",
    "        self.fc_layers = nn.Sequential(\n",
    "            nn.Linear(256 * (112 // 8) * (112 // 8), 512),\n",
    "            nn.ReLU(),\n",
    "            nn.Dropout(0.5),\n",
    "            nn.Linear(512, num_classes)\n",
    "        )\n",
    "\n",
    "    def forward(self, x):\n",
    "        x = self.conv_layers(x)\n",
    "        x = x.view(x.size(0), -1)  # Flatten the output for fully connected layers\n",
    "        x = self.fc_layers(x)\n",
    "        return x"
   ]
  },
  {
   "cell_type": "code",
   "execution_count": 8,
   "metadata": {
    "tags": []
   },
   "outputs": [
    {
     "name": "stdout",
     "output_type": "stream",
     "text": [
      "Epoch [1/10], Step [1/180], Loss: 1.0872\n",
      "Epoch [1/10], Step [101/180], Loss: 1.0582\n",
      "Validation Accuracy: 35.20%\n",
      "Epoch [2/10], Step [1/180], Loss: 1.0852\n",
      "Epoch [2/10], Step [101/180], Loss: 1.0740\n",
      "Validation Accuracy: 35.36%\n",
      "Epoch [3/10], Step [1/180], Loss: 1.1080\n",
      "Epoch [3/10], Step [101/180], Loss: 1.0534\n",
      "Validation Accuracy: 35.51%\n",
      "Epoch [4/10], Step [1/180], Loss: 1.1392\n",
      "Epoch [4/10], Step [101/180], Loss: 1.0003\n",
      "Validation Accuracy: 35.05%\n",
      "Epoch [5/10], Step [1/180], Loss: 1.0424\n",
      "Epoch [5/10], Step [101/180], Loss: 0.9309\n",
      "Validation Accuracy: 33.02%\n",
      "Epoch [6/10], Step [1/180], Loss: 1.0601\n",
      "Epoch [6/10], Step [101/180], Loss: 1.1512\n",
      "Validation Accuracy: 34.58%\n",
      "Epoch [7/10], Step [1/180], Loss: 1.1301\n",
      "Epoch [7/10], Step [101/180], Loss: 1.0309\n",
      "Validation Accuracy: 34.89%\n",
      "Epoch [8/10], Step [1/180], Loss: 1.0157\n",
      "Epoch [8/10], Step [101/180], Loss: 0.7637\n",
      "Validation Accuracy: 34.11%\n",
      "Epoch [9/10], Step [1/180], Loss: 0.7758\n",
      "Epoch [9/10], Step [101/180], Loss: 0.7867\n",
      "Validation Accuracy: 33.02%\n",
      "Epoch [10/10], Step [1/180], Loss: 0.6488\n",
      "Epoch [10/10], Step [101/180], Loss: 0.7195\n",
      "Validation Accuracy: 32.71%\n",
      "Training finished.\n",
      "Final Accuracy: 32.71%\n"
     ]
    },
    {
     "data": {
      "image/png": "[encoded data removed]",
      "text/plain": [
       "<Figure size 576x432 with 2 Axes>"
      ]
     },
     "metadata": {
      "needs_background": "light"
     },
     "output_type": "display_data"
    }
   ],
   "source": [
    "\n",
    "# Number of emotion classes\n",
    "num_classes = 3\n",
    "device = torch.device(\"cuda\" if torch.cuda.is_available() else \"cpu\")\n",
    "\n",
    "# Initialize the model, loss function, and optimizer\n",
    "model = EmotionRecognitionNet(num_classes)\n",
    "criterion = nn.CrossEntropyLoss()\n",
    "optimizer = optim.Adam(model.parameters(), lr=0.001)\n",
    "\n",
    "# Training loop (assuming you have train_data DataLoader)\n",
    "num_epochs = 10\n",
    "\n",
    "for epoch in range(num_epochs):\n",
    "    model.train()  # Set the model to training mode\n",
    "    for batch_idx, (inputs, targets) in enumerate(train_data):\n",
    "        # Move inputs and targets to the device (CPU or GPU)\n",
    "        inputs, targets = inputs.to(device), targets.to(device)\n",
    "        \n",
    "        # Zero the gradients\n",
    "        optimizer.zero_grad()\n",
    "        \n",
    "        # Forward pass\n",
    "        outputs = model(inputs)\n",
    "        \n",
    "        # Calculate the loss\n",
    "        loss = criterion(outputs, targets)\n",
    "        \n",
    "        # Backward pass and optimization\n",
    "        loss.backward()\n",
    "        optimizer.step()\n",
    "        \n",
    "        # Print training progress\n",
    "        if batch_idx % 100 == 0:\n",
    "            print(f'Epoch [{epoch + 1}/{num_epochs}], Step [{batch_idx + 1}/{len(train_data)}], Loss: {loss.item():.4f}')\n",
    "\n",
    "    # Validation\n",
    "    model.eval()  # Set the model to evaluation mode\n",
    "    all_predictions = []\n",
    "    all_targets = []\n",
    "    with torch.no_grad():\n",
    "        correct = 0\n",
    "        total = 0\n",
    "        for inputs, targets in dev_data:\n",
    "            inputs, targets = inputs.to(device), targets.to(device)\n",
    "            outputs = model(inputs)\n",
    "            _, predicted = torch.max(outputs.data, 1)\n",
    "            total += targets.size(0)\n",
    "            correct += (predicted == targets).sum().item()\n",
    "            all_predictions.extend(predicted.cpu().numpy().tolist())\n",
    "            all_targets.extend(targets.cpu().numpy().tolist())\n",
    "\n",
    "        accuracy = 100 * correct / total\n",
    "        print(f'Validation Accuracy: {accuracy:.2f}%')\n",
    "\n",
    "print('Training finished.')\n",
    "\n",
    "# Calcula a accuracy final\n",
    "accuracy = accuracy_score(all_targets, all_predictions)\n",
    "print(f'Final Accuracy: {accuracy * 100:.2f}%')\n",
    "\n",
    "classes = ['anger', 'joy', 'neutral']\n",
    "confusion = confusion_matrix(all_targets, all_predictions)\n",
    "plt.figure(figsize=(8, 6))\n",
    "sns.set(font_scale=1.2)  # Ajusta o tamanho da fonte para tornar o gráfico mais legível\n",
    "sns.heatmap(confusion, annot=True, fmt='g', cmap='Blues', xticklabels=classes, yticklabels=classes)\n",
    "plt.xlabel('Predicted Labels')\n",
    "plt.ylabel('True Labels')\n",
    "plt.title('Confusion Matrix')\n",
    "plt.show()"
   ]
  },
  {
   "cell_type": "code",
   "execution_count": 12,
   "metadata": {
    "tags": []
   },
   "outputs": [],
   "source": [
    "#Com isto conseguimos forçar que as labels estejam de acordo com a classe em que se encontram\n",
    "df = pd.DataFrame({'images':file_name_dev,'label': all_predictions})\n",
    "\n",
    "df['scene'] = df['images'].str[:-5]\n",
    "scene_modes = df.groupby('scene')['label'].agg(mode).reset_index()\n",
    "scene_modes.columns = ['scene', 'mode_label']\n",
    "\n",
    "result_df = df.merge(scene_modes, on='scene', how='left')\n",
    "result_df.drop(columns=['scene'], inplace=True)\n",
    "\n",
    "result_df['mode_label'] = result_df.apply(lambda row: row['label'] if row['mode_label'] == 999 else row['mode_label'], axis=1)\n",
    "\n",
    "new_labels = result_df['mode_label'].to_list()"
   ]
  },
  {
   "cell_type": "code",
   "execution_count": 13,
   "metadata": {
    "tags": []
   },
   "outputs": [
    {
     "name": "stdout",
     "output_type": "stream",
     "text": [
      "Final Accuracy: 35.20%\n"
     ]
    },
    {
     "data": {
      "image/png": "[encoded data removed]",
      "text/plain": [
       "<Figure size 576x432 with 2 Axes>"
      ]
     },
     "metadata": {},
     "output_type": "display_data"
    }
   ],
   "source": [
    "# Conseguimos concluir que o nosso processo aumenta a accuracy do modelo\n",
    "accuracy = accuracy_score(all_targets, new_labels)\n",
    "print(f'Final Accuracy: {accuracy * 100:.2f}%')\n",
    "\n",
    "classes = ['anger', 'joy', 'neutral']\n",
    "confusion = confusion_matrix(all_targets, new_labels)\n",
    "plt.figure(figsize=(8, 6))\n",
    "sns.set(font_scale=1.2)  # Ajusta o tamanho da fonte para tornar o gráfico mais legível\n",
    "sns.heatmap(confusion, annot=True, fmt='g', cmap='Blues', xticklabels=classes, yticklabels=classes)\n",
    "plt.xlabel('Predicted Labels')\n",
    "plt.ylabel('True Labels')\n",
    "plt.title('Confusion Matrix')\n",
    "plt.show()"
   ]
  },
  {
   "cell_type": "markdown",
   "metadata": {
    "jp-MarkdownHeadingCollapsed": true,
    "tags": []
   },
   "source": [
    "#### AlexNet without pre-training"
   ]
  },
  {
   "cell_type": "code",
   "execution_count": 47,
   "metadata": {
    "tags": []
   },
   "outputs": [],
   "source": [
    "class AlexNet(nn.Module):\n",
    "    def __init__(self, num_classes=1000):\n",
    "        super(AlexNet, self).__init__()\n",
    "        self.features = nn.Sequential(\n",
    "            nn.Conv2d(3, 64, kernel_size=3, stride=2, padding=1),  # Modified input channels and kernel size\n",
    "            nn.ReLU(inplace=True),\n",
    "            nn.MaxPool2d(kernel_size=3, stride=2),\n",
    "            nn.Conv2d(64, 192, kernel_size=3, padding=1),\n",
    "            nn.ReLU(inplace=True),\n",
    "            nn.MaxPool2d(kernel_size=3, stride=2),\n",
    "            nn.Conv2d(192, 384, kernel_size=3, padding=1),\n",
    "            nn.ReLU(inplace=True),\n",
    "            nn.Conv2d(384, 256, kernel_size=3, padding=1),\n",
    "            nn.ReLU(inplace=True),\n",
    "            nn.Conv2d(256, 256, kernel_size=3, padding=1),\n",
    "            nn.ReLU(inplace=True),\n",
    "            nn.MaxPool2d(kernel_size=3, stride=2),\n",
    "        )\n",
    "        self.avgpool = nn.AdaptiveAvgPool2d((6, 6))\n",
    "        self.classifier = nn.Sequential(\n",
    "            nn.Dropout(),\n",
    "            nn.Linear(256 * 6 * 6, 4096),\n",
    "            nn.ReLU(inplace=True),\n",
    "            nn.Dropout(),\n",
    "            nn.Linear(4096, 4096),\n",
    "            nn.ReLU(inplace=True),\n",
    "            nn.Linear(4096, num_classes),\n",
    "        )\n",
    "\n",
    "    def forward(self, x):\n",
    "        x = self.features(x)\n",
    "        x = self.avgpool(x)\n",
    "        x = torch.flatten(x, 1)\n",
    "        x = self.classifier(x)\n",
    "        return x"
   ]
  },
  {
   "cell_type": "code",
   "execution_count": 48,
   "metadata": {
    "tags": []
   },
   "outputs": [
    {
     "name": "stdout",
     "output_type": "stream",
     "text": [
      "Epoch [1/10], Step [1/180], Loss: 1.0979\n",
      "Epoch [1/10], Step [101/180], Loss: 1.1101\n",
      "Validation Accuracy: 35.20%\n",
      "Epoch [2/10], Step [1/180], Loss: 1.0032\n",
      "Epoch [2/10], Step [101/180], Loss: 1.0388\n",
      "Validation Accuracy: 35.20%\n",
      "Epoch [3/10], Step [1/180], Loss: 1.1353\n",
      "Epoch [3/10], Step [101/180], Loss: 1.0616\n",
      "Validation Accuracy: 35.20%\n",
      "Epoch [4/10], Step [1/180], Loss: 1.0405\n",
      "Epoch [4/10], Step [101/180], Loss: 1.0948\n",
      "Validation Accuracy: 35.20%\n",
      "Epoch [5/10], Step [1/180], Loss: 1.0255\n",
      "Epoch [5/10], Step [101/180], Loss: 0.9570\n",
      "Validation Accuracy: 35.20%\n",
      "Epoch [6/10], Step [1/180], Loss: 1.0770\n",
      "Epoch [6/10], Step [101/180], Loss: 1.0196\n",
      "Validation Accuracy: 35.20%\n",
      "Epoch [7/10], Step [1/180], Loss: 1.0233\n",
      "Epoch [7/10], Step [101/180], Loss: 1.1478\n",
      "Validation Accuracy: 35.20%\n",
      "Epoch [8/10], Step [1/180], Loss: 1.0354\n",
      "Epoch [8/10], Step [101/180], Loss: 1.0615\n",
      "Validation Accuracy: 35.20%\n",
      "Epoch [9/10], Step [1/180], Loss: 1.0126\n",
      "Epoch [9/10], Step [101/180], Loss: 1.0782\n",
      "Validation Accuracy: 35.20%\n",
      "Epoch [10/10], Step [1/180], Loss: 1.1328\n",
      "Epoch [10/10], Step [101/180], Loss: 1.0849\n",
      "Validation Accuracy: 35.20%\n",
      "Training finished.\n",
      "Final Accuracy: 35.20%\n"
     ]
    },
    {
     "data": {
      "image/png": "[encoded data removed]",
      "text/plain": [
       "<Figure size 576x432 with 2 Axes>"
      ]
     },
     "metadata": {},
     "output_type": "display_data"
    }
   ],
   "source": [
    "num_classes = 3\n",
    "device = torch.device(\"cuda\" if torch.cuda.is_available() else \"cpu\")\n",
    "\n",
    "alexnet_custom = AlexNet(num_classes)\n",
    "\n",
    "# Loss and optimizer\n",
    "criterion = nn.CrossEntropyLoss()\n",
    "optimizer = torch.optim.SGD(alexnet_custom.parameters(), lr=0.005, weight_decay = 0.005, momentum = 0.9) \n",
    "\n",
    "# Training loop (assuming you have train_data DataLoader)\n",
    "num_epochs = 10\n",
    "\n",
    "for epoch in range(num_epochs):\n",
    "    alexnet_custom.train()  # Set the model to training mode\n",
    "    for batch_idx, (inputs, targets) in enumerate(train_data):\n",
    "        # Move inputs and targets to the device (CPU or GPU)\n",
    "        inputs, targets = inputs.to(device), targets.to(device)\n",
    "        \n",
    "        # Zero the gradients\n",
    "        optimizer.zero_grad()\n",
    "        \n",
    "        # Forward pass\n",
    "        outputs = alexnet_custom(inputs)\n",
    "        \n",
    "        # Calculate the loss\n",
    "        loss = criterion(outputs, targets)\n",
    "        \n",
    "        # Backward pass and optimization\n",
    "        loss.backward()\n",
    "        optimizer.step()\n",
    "        \n",
    "        # Print training progress\n",
    "        if batch_idx % 100 == 0:\n",
    "            print(f'Epoch [{epoch + 1}/{num_epochs}], Step [{batch_idx + 1}/{len(train_data)}], Loss: {loss.item():.4f}')\n",
    "\n",
    "    # Validation\n",
    "    alexnet_custom.eval()  # Set the model to evaluation mode\n",
    "    alexnet_custom_predictions = []\n",
    "    alexnet_custom_targets = []\n",
    "    with torch.no_grad():\n",
    "        correct = 0\n",
    "        total = 0\n",
    "        for inputs, targets in dev_data:\n",
    "            inputs, targets = inputs.to(device), targets.to(device)\n",
    "            outputs = alexnet_custom(inputs)\n",
    "            _, predicted = torch.max(outputs.data, 1)\n",
    "            total += targets.size(0)\n",
    "            correct += (predicted == targets).sum().item()\n",
    "            alexnet_custom_predictions.extend(predicted.cpu().numpy().tolist())\n",
    "            alexnet_custom_targets.extend(targets.cpu().numpy().tolist())\n",
    "\n",
    "        accuracy = 100 * correct / total\n",
    "        print(f'Validation Accuracy: {accuracy:.2f}%')\n",
    "\n",
    "print('Training finished.')\n",
    "\n",
    "# Calcula a accuracy final\n",
    "accuracy = accuracy_score(alexnet_custom_targets, alexnet_custom_predictions)\n",
    "print(f'Final Accuracy: {accuracy * 100:.2f}%')\n",
    "\n",
    "classes = ['anger', 'joy', 'neutral']\n",
    "confusion = confusion_matrix(alexnet_custom_targets, alexnet_custom_predictions)\n",
    "plt.figure(figsize=(8, 6))\n",
    "sns.set(font_scale=1.2)  # Ajusta o tamanho da fonte para tornar o gráfico mais legível\n",
    "sns.heatmap(confusion, annot=True, fmt='g', cmap='Blues', xticklabels=classes, yticklabels=classes)\n",
    "plt.xlabel('Predicted Labels')\n",
    "plt.ylabel('True Labels')\n",
    "plt.title('Confusion Matrix')\n",
    "plt.show()"
   ]
  },
  {
   "cell_type": "markdown",
   "metadata": {
    "jp-MarkdownHeadingCollapsed": true,
    "tags": []
   },
   "source": [
    "#### AlexNet network with pre-training"
   ]
  },
  {
   "cell_type": "code",
   "execution_count": 27,
   "metadata": {
    "tags": []
   },
   "outputs": [
    {
     "name": "stdout",
     "output_type": "stream",
     "text": [
      "Epoch [1/10], Step [1/180], Loss: 1.1662\n",
      "Epoch [1/10], Step [101/180], Loss: 1.0822\n",
      "Validation Accuracy: 35.20%\n",
      "Epoch [2/10], Step [1/180], Loss: 1.0242\n",
      "Epoch [2/10], Step [101/180], Loss: 1.0650\n",
      "Validation Accuracy: 35.20%\n",
      "Epoch [3/10], Step [1/180], Loss: 1.0378\n",
      "Epoch [3/10], Step [101/180], Loss: 1.0714\n",
      "Validation Accuracy: 35.20%\n",
      "Epoch [4/10], Step [1/180], Loss: 1.1077\n",
      "Epoch [4/10], Step [101/180], Loss: 1.0556\n",
      "Validation Accuracy: 35.20%\n",
      "Epoch [5/10], Step [1/180], Loss: 1.0652\n",
      "Epoch [5/10], Step [101/180], Loss: 1.0603\n",
      "Validation Accuracy: 35.20%\n",
      "Epoch [6/10], Step [1/180], Loss: 0.9655\n",
      "Epoch [6/10], Step [101/180], Loss: 1.0630\n",
      "Validation Accuracy: 35.20%\n",
      "Epoch [7/10], Step [1/180], Loss: 1.0516\n",
      "Epoch [7/10], Step [101/180], Loss: 1.1129\n",
      "Validation Accuracy: 35.20%\n",
      "Epoch [8/10], Step [1/180], Loss: 1.0742\n",
      "Epoch [8/10], Step [101/180], Loss: 1.0929\n",
      "Validation Accuracy: 35.20%\n",
      "Epoch [9/10], Step [1/180], Loss: 1.0787\n",
      "Epoch [9/10], Step [101/180], Loss: 1.0163\n",
      "Validation Accuracy: 35.20%\n",
      "Epoch [10/10], Step [1/180], Loss: 1.0899\n",
      "Epoch [10/10], Step [101/180], Loss: 1.0531\n",
      "Validation Accuracy: 35.20%\n",
      "Training finished.\n",
      "Final Accuracy: 35.20%\n"
     ]
    },
    {
     "data": {
      "image/png": "[encoded data removed]",
      "text/plain": [
       "<Figure size 576x432 with 2 Axes>"
      ]
     },
     "metadata": {},
     "output_type": "display_data"
    }
   ],
   "source": [
    "num_classes = 3\n",
    "\n",
    "alexnet = models.alexnet(pretrained=True)\n",
    "alexnet.classifier[6] = nn.Linear(4096, num_classes)\n",
    "\n",
    "# Loss function and optimizer\n",
    "criterion = nn.CrossEntropyLoss()\n",
    "optimizer = torch.optim.Adam(alexnet.parameters(), lr=0.001)\n",
    "\n",
    "# Train the model\n",
    "num_epochs = 10\n",
    "device = torch.device(\"cuda\" if torch.cuda.is_available() else \"cpu\")\n",
    "alexnet.to(device)\n",
    "\n",
    "for epoch in range(num_epochs):\n",
    "    alexnet.train()\n",
    "    for batch_idx, (inputs, targets) in enumerate(train_data):\n",
    "        inputs, targets = inputs.to(device), targets.to(device)\n",
    "        optimizer.zero_grad()\n",
    "        outputs = alexnet(inputs)\n",
    "        loss = criterion(outputs, targets)\n",
    "        loss.backward()\n",
    "        optimizer.step()\n",
    "\n",
    "        if batch_idx % 100 == 0:\n",
    "            print(f'Epoch [{epoch+1}/{num_epochs}], Step [{batch_idx+1}/{len(train_data)}], Loss: {loss.item():.4f}')\n",
    "\n",
    "    # Validation\n",
    "    alexnet.eval()\n",
    "    alexnet_predictions = []\n",
    "    alexnet_targets = []\n",
    "    with torch.no_grad():\n",
    "        correct = 0\n",
    "        total = 0\n",
    "        for inputs, targets in dev_data:\n",
    "            inputs, targets = inputs.to(device), targets.to(device)\n",
    "            outputs = alexnet(inputs)\n",
    "            _, predicted = torch.max(outputs.data, 1)\n",
    "            total += targets.size(0)\n",
    "            correct += (predicted == targets).sum().item()\n",
    "            alexnet_predictions.extend(predicted.cpu().numpy().tolist())\n",
    "            alexnet_targets.extend(targets.cpu().numpy().tolist())\n",
    "\n",
    "        accuracy = 100 * correct / total\n",
    "        print(f'Validation Accuracy: {accuracy:.2f}%')\n",
    "\n",
    "print('Training finished.')\n",
    "\n",
    "# Calcula a accuracy final\n",
    "accuracy = accuracy_score(alexnet_targets, alexnet_predictions)\n",
    "print(f'Final Accuracy: {accuracy * 100:.2f}%')\n",
    "\n",
    "classes = ['anger', 'joy', 'neutral']\n",
    "confusion = confusion_matrix(alexnet_targets, alexnet_predictions)\n",
    "plt.figure(figsize=(8, 6))\n",
    "sns.set(font_scale=1.2)  # Ajusta o tamanho da fonte para tornar o gráfico mais legível\n",
    "sns.heatmap(confusion, annot=True, fmt='g', cmap='Blues', xticklabels=classes, yticklabels=classes)\n",
    "plt.xlabel('Predicted Labels')\n",
    "plt.ylabel('True Labels')\n",
    "plt.title('Confusion Matrix')\n",
    "plt.show()"
   ]
  },
  {
   "cell_type": "markdown",
   "metadata": {
    "jp-MarkdownHeadingCollapsed": true,
    "tags": []
   },
   "source": [
    "#### VGG16 Network without pre-training"
   ]
  },
  {
   "cell_type": "code",
   "execution_count": 8,
   "metadata": {
    "tags": []
   },
   "outputs": [],
   "source": [
    "class VGG16(nn.Module):\n",
    "    def __init__(self, num_classes=3):\n",
    "        super(VGG16, self).__init__()\n",
    "        self.features = nn.Sequential(\n",
    "            nn.Conv2d(3, 64, kernel_size=3, padding=1),\n",
    "            nn.ReLU(inplace=True),\n",
    "            nn.Conv2d(64, 64, kernel_size=3, padding=1),\n",
    "            nn.ReLU(inplace=True),\n",
    "            nn.MaxPool2d(kernel_size=2, stride=2),\n",
    "            \n",
    "            nn.Conv2d(64, 128, kernel_size=3, padding=1),\n",
    "            nn.ReLU(inplace=True),\n",
    "            nn.Conv2d(128, 128, kernel_size=3, padding=1),\n",
    "            nn.ReLU(inplace=True),\n",
    "            nn.MaxPool2d(kernel_size=2, stride=2),\n",
    "            \n",
    "            nn.Conv2d(128, 256, kernel_size=3, padding=1),\n",
    "            nn.ReLU(inplace=True),\n",
    "            nn.Conv2d(256, 256, kernel_size=3, padding=1),\n",
    "            nn.ReLU(inplace=True),\n",
    "            nn.Conv2d(256, 256, kernel_size=3, padding=1),\n",
    "            nn.ReLU(inplace=True),\n",
    "            nn.MaxPool2d(kernel_size=2, stride=2),\n",
    "            \n",
    "            nn.Conv2d(256, 512, kernel_size=3, padding=1),\n",
    "            nn.ReLU(inplace=True),\n",
    "            nn.Conv2d(512, 512, kernel_size=3, padding=1),\n",
    "            nn.ReLU(inplace=True),\n",
    "            nn.Conv2d(512, 512, kernel_size=3, padding=1),\n",
    "            nn.ReLU(inplace=True),\n",
    "            nn.MaxPool2d(kernel_size=2, stride=2),\n",
    "            \n",
    "            nn.Conv2d(512, 512, kernel_size=3, padding=1),\n",
    "            nn.ReLU(inplace=True),\n",
    "            nn.Conv2d(512, 512, kernel_size=3, padding=1),\n",
    "            nn.ReLU(inplace=True),\n",
    "            nn.Conv2d(512, 512, kernel_size=3, padding=1),\n",
    "            nn.ReLU(inplace=True),\n",
    "            nn.MaxPool2d(kernel_size=2, stride=2),\n",
    "        )\n",
    "        self.avgpool = nn.AdaptiveAvgPool2d((7, 7))\n",
    "        self.classifier = nn.Sequential(\n",
    "            nn.Linear(512 * 7 * 7, 4096),\n",
    "            nn.ReLU(inplace=True),\n",
    "            nn.Dropout(),\n",
    "            nn.Linear(4096, 4096),\n",
    "            nn.ReLU(inplace=True),\n",
    "            nn.Dropout(),\n",
    "            nn.Linear(4096, num_classes)\n",
    "        )\n",
    "\n",
    "    def forward(self, x):\n",
    "        x = self.features(x)\n",
    "        x = self.avgpool(x)\n",
    "        x = torch.flatten(x, 1)\n",
    "        x = self.classifier(x)\n",
    "        return x"
   ]
  },
  {
   "cell_type": "code",
   "execution_count": 9,
   "metadata": {
    "tags": []
   },
   "outputs": [
    {
     "name": "stdout",
     "output_type": "stream",
     "text": [
      "Epoch [1/10], Step [1/180], Loss: 1.0951\n",
      "Epoch [1/10], Step [101/180], Loss: 1.0479\n",
      "Validation Accuracy: 35.20%\n",
      "Epoch [2/10], Step [1/180], Loss: 1.0150\n",
      "Epoch [2/10], Step [101/180], Loss: 1.1057\n",
      "Validation Accuracy: 35.20%\n",
      "Epoch [3/10], Step [1/180], Loss: 1.0866\n",
      "Epoch [3/10], Step [101/180], Loss: 0.9868\n",
      "Validation Accuracy: 35.20%\n",
      "Epoch [4/10], Step [1/180], Loss: 1.0379\n",
      "Epoch [4/10], Step [101/180], Loss: 1.0906\n",
      "Validation Accuracy: 35.20%\n",
      "Epoch [5/10], Step [1/180], Loss: 1.1443\n",
      "Epoch [5/10], Step [101/180], Loss: 1.0676\n",
      "Validation Accuracy: 35.20%\n",
      "Epoch [6/10], Step [1/180], Loss: 1.0809\n",
      "Epoch [6/10], Step [101/180], Loss: 1.0692\n",
      "Validation Accuracy: 35.20%\n",
      "Epoch [7/10], Step [1/180], Loss: 1.0880\n",
      "Epoch [7/10], Step [101/180], Loss: 1.0958\n",
      "Validation Accuracy: 35.20%\n",
      "Epoch [8/10], Step [1/180], Loss: 1.0780\n",
      "Epoch [8/10], Step [101/180], Loss: 1.0534\n",
      "Validation Accuracy: 35.20%\n",
      "Epoch [9/10], Step [1/180], Loss: 1.0135\n",
      "Epoch [9/10], Step [101/180], Loss: 1.0864\n",
      "Validation Accuracy: 35.20%\n",
      "Epoch [10/10], Step [1/180], Loss: 1.0406\n",
      "Epoch [10/10], Step [101/180], Loss: 1.1866\n",
      "Validation Accuracy: 35.20%\n",
      "Training finished.\n",
      "Final Accuracy: 35.20%\n"
     ]
    },
    {
     "data": {
      "image/png": "[encoded data removed]",
      "text/plain": [
       "<Figure size 576x432 with 2 Axes>"
      ]
     },
     "metadata": {
      "needs_background": "light"
     },
     "output_type": "display_data"
    }
   ],
   "source": [
    "num_classes = 3\n",
    "device = torch.device(\"cuda\" if torch.cuda.is_available() else \"cpu\")\n",
    "\n",
    "vggnet16_custom = VGG16(num_classes=num_classes)\n",
    "\n",
    "# Loss and optimizer\n",
    "criterion = nn.CrossEntropyLoss()\n",
    "optimizer = optim.Adam(vggnet16_custom.parameters(), lr=0.001)\n",
    "\n",
    "# Training loop\n",
    "num_epochs = 10\n",
    "\n",
    "for epoch in range(num_epochs):\n",
    "    vggnet16_custom.train()  # Set the model to training mode\n",
    "    for batch_idx, (inputs, targets) in enumerate(train_data):\n",
    "        # Move inputs and targets to the device (CPU or GPU)\n",
    "        inputs, targets = inputs.to(device), targets.to(device)\n",
    "        \n",
    "        # Zero the gradients\n",
    "        optimizer.zero_grad()\n",
    "        \n",
    "        # Forward pass\n",
    "        outputs = vggnet16_custom(inputs)\n",
    "        \n",
    "        # Calculate the loss\n",
    "        loss = criterion(outputs, targets)\n",
    "        \n",
    "        # Backward pass and optimization\n",
    "        loss.backward()\n",
    "        optimizer.step()\n",
    "        \n",
    "        # Print training progress\n",
    "        if batch_idx % 100 == 0:\n",
    "            print(f'Epoch [{epoch + 1}/{num_epochs}], Step [{batch_idx + 1}/{len(train_data)}], Loss: {loss.item():.4f}')\n",
    "\n",
    "    # Validation\n",
    "    vggnet16_custom.eval()  # Set the model to evaluation mode\n",
    "    vggnet16_custom_predictions = []\n",
    "    vggnet16_custom_targets = []\n",
    "    with torch.no_grad():\n",
    "        correct = 0\n",
    "        total = 0\n",
    "        for inputs, targets in dev_data:\n",
    "            inputs, targets = inputs.to(device), targets.to(device)\n",
    "            outputs = vggnet16_custom(inputs)\n",
    "            _, predicted = torch.max(outputs.data, 1)\n",
    "            total += targets.size(0)\n",
    "            correct += (predicted == targets).sum().item()\n",
    "            vggnet16_custom_predictions.extend(predicted.cpu().numpy().tolist())\n",
    "            vggnet16_custom_targets.extend(targets.cpu().numpy().tolist())\n",
    "\n",
    "        accuracy = 100 * correct / total\n",
    "        print(f'Validation Accuracy: {accuracy:.2f}%')\n",
    "\n",
    "print('Training finished.')\n",
    "\n",
    "# Calcula a accuracy final\n",
    "accuracy = accuracy_score(vggnet16_custom_targets, vggnet16_custom_predictions)\n",
    "print(f'Final Accuracy: {accuracy * 100:.2f}%')\n",
    "\n",
    "classes = ['anger', 'joy', 'neutral']\n",
    "confusion = confusion_matrix(vggnet16_custom_targets, vggnet16_custom_predictions)\n",
    "plt.figure(figsize=(8, 6))\n",
    "sns.set(font_scale=1.2)  # Ajusta o tamanho da fonte para tornar o gráfico mais legível\n",
    "sns.heatmap(confusion, annot=True, fmt='g', cmap='Blues', xticklabels=classes, yticklabels=classes)\n",
    "plt.xlabel('Predicted Labels')\n",
    "plt.ylabel('True Labels')\n",
    "plt.title('Confusion Matrix')\n",
    "plt.show()"
   ]
  },
  {
   "cell_type": "markdown",
   "metadata": {
    "jp-MarkdownHeadingCollapsed": true,
    "tags": []
   },
   "source": [
    "#### VGG16 Network with pre-training"
   ]
  },
  {
   "cell_type": "code",
   "execution_count": 14,
   "metadata": {},
   "outputs": [
    {
     "name": "stdout",
     "output_type": "stream",
     "text": [
      "Epoch [1/10], Step [1/180], Loss: 1.3260\n",
      "Epoch [1/10], Step [101/180], Loss: 1.1276\n",
      "Validation Accuracy: 32.24%\n",
      "Epoch [2/10], Step [1/180], Loss: 1.1404\n",
      "Epoch [2/10], Step [101/180], Loss: 1.2107\n",
      "Validation Accuracy: 32.24%\n",
      "Epoch [3/10], Step [1/180], Loss: 1.1326\n",
      "Epoch [3/10], Step [101/180], Loss: 1.1902\n",
      "Validation Accuracy: 32.24%\n",
      "Epoch [4/10], Step [1/180], Loss: 1.2723\n",
      "Epoch [4/10], Step [101/180], Loss: 1.2130\n",
      "Validation Accuracy: 32.24%\n",
      "Epoch [5/10], Step [1/180], Loss: 1.2171\n",
      "Epoch [5/10], Step [101/180], Loss: 1.1753\n",
      "Validation Accuracy: 32.24%\n",
      "Epoch [6/10], Step [1/180], Loss: 1.1579\n",
      "Epoch [6/10], Step [101/180], Loss: 1.1431\n",
      "Validation Accuracy: 32.24%\n",
      "Epoch [7/10], Step [1/180], Loss: 1.1960\n",
      "Epoch [7/10], Step [101/180], Loss: 1.2844\n",
      "Validation Accuracy: 32.24%\n",
      "Epoch [8/10], Step [1/180], Loss: 1.0853\n",
      "Epoch [8/10], Step [101/180], Loss: 1.2908\n",
      "Validation Accuracy: 32.24%\n",
      "Epoch [9/10], Step [1/180], Loss: 1.2399\n",
      "Epoch [9/10], Step [101/180], Loss: 1.0865\n",
      "Validation Accuracy: 32.24%\n",
      "Epoch [10/10], Step [1/180], Loss: 1.2499\n",
      "Epoch [10/10], Step [101/180], Loss: 1.2821\n",
      "Validation Accuracy: 32.24%\n",
      "Training finished.\n",
      "Final Accuracy: 32.24%\n"
     ]
    },
    {
     "data": {
      "image/png": "[encoded data removed]",
      "text/plain": [
       "<Figure size 576x432 with 2 Axes>"
      ]
     },
     "metadata": {},
     "output_type": "display_data"
    }
   ],
   "source": [
    "num_classes = 3\n",
    "\n",
    "vgg16 = models.vgg16(pretrained=True)\n",
    "vgg16.classifier[6] = nn.Linear(4096, num_classes)\n",
    "\n",
    "# Loss and optimizer\n",
    "criterion = nn.CrossEntropyLoss()\n",
    "optimizer = optim.Adam(vggnet16_custom.parameters(), lr=0.001)\n",
    "\n",
    "# Training loop\n",
    "num_epochs = 10\n",
    "\n",
    "for epoch in range(num_epochs):\n",
    "    vgg16.train()  # Set the model to training mode\n",
    "    for batch_idx, (inputs, targets) in enumerate(train_data):\n",
    "        # Move inputs and targets to the device (CPU or GPU)\n",
    "        inputs, targets = inputs.to(device), targets.to(device)\n",
    "        \n",
    "        # Zero the gradients\n",
    "        optimizer.zero_grad()\n",
    "        \n",
    "        # Forward pass\n",
    "        outputs = vgg16(inputs)\n",
    "        \n",
    "        # Calculate the loss\n",
    "        loss = criterion(outputs, targets)\n",
    "        \n",
    "        # Backward pass and optimization\n",
    "        loss.backward()\n",
    "        optimizer.step()\n",
    "        \n",
    "        # Print training progress\n",
    "        if batch_idx % 100 == 0:\n",
    "            print(f'Epoch [{epoch + 1}/{num_epochs}], Step [{batch_idx + 1}/{len(train_data)}], Loss: {loss.item():.4f}')\n",
    "\n",
    "    # Validation\n",
    "    vgg16.eval()  # Set the model to evaluation mode\n",
    "    vgg16_predictions = []\n",
    "    vgg16_targets = []\n",
    "    with torch.no_grad():\n",
    "        correct = 0\n",
    "        total = 0\n",
    "        for inputs, targets in dev_data:\n",
    "            inputs, targets = inputs.to(device), targets.to(device)\n",
    "            outputs = vgg16(inputs)\n",
    "            _, predicted = torch.max(outputs.data, 1)\n",
    "            total += targets.size(0)\n",
    "            correct += (predicted == targets).sum().item()\n",
    "            vgg16_predictions.extend(predicted.cpu().numpy().tolist())\n",
    "            vgg16_targets.extend(targets.cpu().numpy().tolist())\n",
    "\n",
    "        accuracy = 100 * correct / total\n",
    "        print(f'Validation Accuracy: {accuracy:.2f}%')\n",
    "\n",
    "print('Training finished.')\n",
    "\n",
    "# Calcula a accuracy final\n",
    "accuracy = accuracy_score(vgg16_targets, vgg16_predictions)\n",
    "print(f'Final Accuracy: {accuracy * 100:.2f}%')\n",
    "\n",
    "classes = ['anger', 'joy', 'neutral']\n",
    "confusion = confusion_matrix(vgg16_targets, vgg16_predictions)\n",
    "plt.figure(figsize=(8, 6))\n",
    "sns.set(font_scale=1.2)  # Ajusta o tamanho da fonte para tornar o gráfico mais legível\n",
    "sns.heatmap(confusion, annot=True, fmt='g', cmap='Blues', xticklabels=classes, yticklabels=classes)\n",
    "plt.xlabel('Predicted Labels')\n",
    "plt.ylabel('True Labels')\n",
    "plt.title('Confusion Matrix')\n",
    "plt.show()"
   ]
  },
  {
   "cell_type": "code",
   "execution_count": 15,
   "metadata": {
    "tags": []
   },
   "outputs": [],
   "source": [
    "#Com isto conseguimos forçar que as labels estejam de acordo com a classe em que se encontram\n",
    "df = pd.DataFrame({'images':file_name_dev,'label': vgg16_predictions})\n",
    "\n",
    "df['scene'] = df['images'].str[:-5]\n",
    "scene_modes = df.groupby('scene')['label'].agg(mode).reset_index()\n",
    "scene_modes.columns = ['scene', 'mode_label']\n",
    "\n",
    "result_df = df.merge(scene_modes, on='scene', how='left')\n",
    "result_df.drop(columns=['scene'], inplace=True)\n",
    "\n",
    "result_df['mode_label'] = result_df.apply(lambda row: row['label'] if row['mode_label'] == 999 else row['mode_label'], axis=1)\n",
    "\n",
    "new_labels = result_df['mode_label'].to_list()"
   ]
  },
  {
   "cell_type": "code",
   "execution_count": 16,
   "metadata": {
    "tags": []
   },
   "outputs": [
    {
     "name": "stdout",
     "output_type": "stream",
     "text": [
      "Final Accuracy: 29.28%\n"
     ]
    },
    {
     "data": {
      "image/png": "[encoded data removed]",
      "text/plain": [
       "<Figure size 576x432 with 2 Axes>"
      ]
     },
     "metadata": {},
     "output_type": "display_data"
    }
   ],
   "source": [
    "# Conseguimos concluir que o nosso processo faz variar a accuracy do modelo\n",
    "accuracy = accuracy_score(vgg16_targets, new_labels)\n",
    "print(f'Final Accuracy: {accuracy * 100:.2f}%')\n",
    "\n",
    "classes = ['anger', 'joy', 'neutral']\n",
    "confusion = confusion_matrix(vgg16_targets, new_labels)\n",
    "plt.figure(figsize=(8, 6))\n",
    "sns.set(font_scale=1.2)  # Ajusta o tamanho da fonte para tornar o gráfico mais legível\n",
    "sns.heatmap(confusion, annot=True, fmt='g', cmap='Blues', xticklabels=classes, yticklabels=classes)\n",
    "plt.xlabel('Predicted Labels')\n",
    "plt.ylabel('True Labels')\n",
    "plt.title('Confusion Matrix')\n",
    "plt.show()"
   ]
  },
  {
   "cell_type": "markdown",
   "metadata": {
    "jp-MarkdownHeadingCollapsed": true,
    "tags": []
   },
   "source": [
    "#### ResNet-18 network without pre-training"
   ]
  },
  {
   "cell_type": "code",
   "execution_count": 24,
   "metadata": {
    "tags": []
   },
   "outputs": [],
   "source": [
    "class BasicBlock(nn.Module):\n",
    "    def __init__(\n",
    "        self, \n",
    "        in_channels: int,\n",
    "        out_channels: int,\n",
    "        stride: int = 1,\n",
    "        expansion: int = 1,\n",
    "        downsample: nn.Module = None\n",
    "    ) -> None:\n",
    "        super(BasicBlock, self).__init__()\n",
    "        # Multiplicative factor for the subsequent conv2d layer's output channels.\n",
    "        # It is 1 for ResNet18 and ResNet34.\n",
    "        self.expansion = expansion\n",
    "        self.downsample = downsample\n",
    "        self.conv1 = nn.Conv2d(\n",
    "            in_channels, \n",
    "            out_channels, \n",
    "            kernel_size=3, \n",
    "            stride=stride, \n",
    "            padding=1,\n",
    "            bias=False\n",
    "        )\n",
    "        self.bn1 = nn.BatchNorm2d(out_channels)\n",
    "        self.relu = nn.ReLU(inplace=True)\n",
    "        self.conv2 = nn.Conv2d(\n",
    "            out_channels, \n",
    "            out_channels*self.expansion, \n",
    "            kernel_size=3, \n",
    "            padding=1,\n",
    "            bias=False\n",
    "        )\n",
    "        self.bn2 = nn.BatchNorm2d(out_channels*self.expansion)\n",
    "    def forward(self, x: Tensor) -> Tensor:\n",
    "        identity = x\n",
    "        out = self.conv1(x)\n",
    "        out = self.bn1(out)\n",
    "        out = self.relu(out)\n",
    "        out = self.conv2(out)\n",
    "        out = self.bn2(out)\n",
    "        if self.downsample is not None:\n",
    "            identity = self.downsample(x)\n",
    "        out += identity\n",
    "        out = self.relu(out)\n",
    "        return  out\n",
    "\n",
    "# Define the ResNet-18 model\n",
    "\n",
    "class ResNet(nn.Module):\n",
    "    def __init__(\n",
    "        self, \n",
    "        img_channels: int,\n",
    "        num_layers: int,\n",
    "        block: Type[BasicBlock],\n",
    "        num_classes: int  = 3\n",
    "    ) -> None:\n",
    "        super(ResNet, self).__init__()\n",
    "        if num_layers == 18:\n",
    "            # The following `layers` list defines the number of `BasicBlock` \n",
    "            # to use to build the network and how many basic blocks to stack\n",
    "            # together.\n",
    "            layers = [2, 2, 2, 2]\n",
    "            self.expansion = 1\n",
    "        \n",
    "        self.in_channels = 64\n",
    "        # All ResNets (18 to 152) contain a Conv2d => BN => ReLU for the first\n",
    "        # three layers. Here, kernel size is 7.\n",
    "        self.conv1 = nn.Conv2d(\n",
    "            in_channels=img_channels,\n",
    "            out_channels=self.in_channels,\n",
    "            kernel_size=7, \n",
    "            stride=2,\n",
    "            padding=3,\n",
    "            bias=False\n",
    "        )\n",
    "        self.bn1 = nn.BatchNorm2d(self.in_channels)\n",
    "        self.relu = nn.ReLU(inplace=True)\n",
    "        self.maxpool = nn.MaxPool2d(kernel_size=3, stride=2, padding=1)\n",
    "        self.layer1 = self._make_layer(block, 64, layers[0])\n",
    "        self.layer2 = self._make_layer(block, 128, layers[1], stride=2)\n",
    "        self.layer3 = self._make_layer(block, 256, layers[2], stride=2)\n",
    "        self.layer4 = self._make_layer(block, 512, layers[3], stride=2)\n",
    "        self.avgpool = nn.AdaptiveAvgPool2d((1, 1))\n",
    "        self.fc = nn.Linear(512*self.expansion, num_classes)\n",
    "    def _make_layer(\n",
    "        self, \n",
    "        block: Type[BasicBlock],\n",
    "        out_channels: int,\n",
    "        blocks: int,\n",
    "        stride: int = 1\n",
    "    ) -> nn.Sequential:\n",
    "        downsample = None\n",
    "        if stride != 1:\n",
    "            downsample = nn.Sequential(\n",
    "                nn.Conv2d(\n",
    "                    self.in_channels, \n",
    "                    out_channels*self.expansion,\n",
    "                    kernel_size=1,\n",
    "                    stride=stride,\n",
    "                    bias=False \n",
    "                ),\n",
    "                nn.BatchNorm2d(out_channels * self.expansion),\n",
    "            )\n",
    "        layers = []\n",
    "        layers.append(\n",
    "            block(\n",
    "                self.in_channels, out_channels, stride, self.expansion, downsample\n",
    "            )\n",
    "        )\n",
    "        self.in_channels = out_channels * self.expansion\n",
    "        for i in range(1, blocks):\n",
    "            layers.append(block(\n",
    "                self.in_channels,\n",
    "                out_channels,\n",
    "                expansion=self.expansion\n",
    "            ))\n",
    "        return nn.Sequential(*layers)\n",
    "    def forward(self, x: Tensor) -> Tensor:\n",
    "        x = self.conv1(x)\n",
    "        x = self.bn1(x)\n",
    "        x = self.relu(x)\n",
    "        x = self.maxpool(x)\n",
    "        x = self.layer1(x)\n",
    "        x = self.layer2(x)\n",
    "        x = self.layer3(x)\n",
    "        x = self.layer4(x)\n",
    "        # The spatial dimension of the final layer's feature \n",
    "        # map should be (7, 7) for all ResNets.\n",
    "        x = self.avgpool(x)\n",
    "        x = torch.flatten(x, 1)\n",
    "        x = self.fc(x)\n",
    "        return x\n",
    "\n",
    "# Example usage\n",
    "resnet18_custom = ResNet(img_channels=3, num_layers=18, block=BasicBlock, num_classes=3)"
   ]
  },
  {
   "cell_type": "code",
   "execution_count": 25,
   "metadata": {
    "tags": []
   },
   "outputs": [
    {
     "name": "stdout",
     "output_type": "stream",
     "text": [
      "Epoch [1/10], Step [1/180], Loss: 1.1920\n",
      "Epoch [1/10], Step [101/180], Loss: 1.1770\n",
      "Validation Accuracy: 35.20%\n",
      "Epoch [2/10], Step [1/180], Loss: 1.2013\n",
      "Epoch [2/10], Step [101/180], Loss: 1.0289\n",
      "Validation Accuracy: 36.14%\n",
      "Epoch [3/10], Step [1/180], Loss: 1.1090\n",
      "Epoch [3/10], Step [101/180], Loss: 1.1041\n",
      "Validation Accuracy: 34.27%\n",
      "Epoch [4/10], Step [1/180], Loss: 1.0852\n",
      "Epoch [4/10], Step [101/180], Loss: 1.0393\n",
      "Validation Accuracy: 38.63%\n",
      "Epoch [5/10], Step [1/180], Loss: 1.0341\n",
      "Epoch [5/10], Step [101/180], Loss: 1.1301\n",
      "Validation Accuracy: 37.38%\n",
      "Epoch [6/10], Step [1/180], Loss: 1.0723\n",
      "Epoch [6/10], Step [101/180], Loss: 1.0553\n",
      "Validation Accuracy: 36.76%\n",
      "Epoch [7/10], Step [1/180], Loss: 0.9907\n",
      "Epoch [7/10], Step [101/180], Loss: 1.0389\n",
      "Validation Accuracy: 35.67%\n",
      "Epoch [8/10], Step [1/180], Loss: 1.0423\n",
      "Epoch [8/10], Step [101/180], Loss: 1.0307\n",
      "Validation Accuracy: 35.83%\n",
      "Epoch [9/10], Step [1/180], Loss: 0.9884\n",
      "Epoch [9/10], Step [101/180], Loss: 1.1078\n",
      "Validation Accuracy: 36.45%\n",
      "Epoch [10/10], Step [1/180], Loss: 1.0271\n",
      "Epoch [10/10], Step [101/180], Loss: 1.0446\n",
      "Validation Accuracy: 38.94%\n",
      "Training finished.\n",
      "Final Accuracy: 38.94%\n"
     ]
    },
    {
     "data": {
      "image/png": "[encoded data removed]",
      "text/plain": [
       "<Figure size 576x432 with 2 Axes>"
      ]
     },
     "metadata": {},
     "output_type": "display_data"
    }
   ],
   "source": [
    "# Loss function and optimizer\n",
    "criterion = nn.CrossEntropyLoss()\n",
    "optimizer = optim.Adam(resnet18_custom.parameters(), lr=0.001)\n",
    "\n",
    "num_epochs = 10\n",
    "device = torch.device(\"cuda\" if torch.cuda.is_available() else \"cpu\")\n",
    "resnet18_custom.to(device)\n",
    "\n",
    "for epoch in range(num_epochs):\n",
    "    resnet18_custom.train()\n",
    "    for batch_idx, (inputs, targets) in enumerate(train_data):\n",
    "        inputs, targets = inputs.to(device), targets.to(device)\n",
    "        optimizer.zero_grad()\n",
    "        outputs = resnet18_custom(inputs)\n",
    "        loss = criterion(outputs, targets)\n",
    "        loss.backward()\n",
    "        optimizer.step()\n",
    "\n",
    "        if batch_idx % 100 == 0:\n",
    "            print(f'Epoch [{epoch+1}/{num_epochs}], Step [{batch_idx+1}/{len(train_data)}], Loss: {loss.item():.4f}')\n",
    "\n",
    "    # Validation\n",
    "    resnet18_custom.eval()\n",
    "    resnet_custom_predictions = []\n",
    "    resnet_custom_targets = []\n",
    "    with torch.no_grad():\n",
    "        correct = 0\n",
    "        total = 0\n",
    "        for inputs, targets in dev_data:\n",
    "            inputs, targets = inputs.to(device), targets.to(device)\n",
    "            outputs = resnet18_custom(inputs)\n",
    "            _, predicted = torch.max(outputs.data, 1)\n",
    "            total += targets.size(0)\n",
    "            correct += (predicted == targets).sum().item()\n",
    "            resnet_custom_predictions.extend(predicted.cpu().numpy().tolist())\n",
    "            resnet_custom_targets.extend(targets.cpu().numpy().tolist())\n",
    "\n",
    "        accuracy = 100 * correct / total\n",
    "        print(f'Validation Accuracy: {accuracy:.2f}%')\n",
    "\n",
    "print('Training finished.')\n",
    "\n",
    "# Calcula a accuracy final\n",
    "accuracy = accuracy_score(resnet_custom_targets, resnet_custom_predictions)\n",
    "print(f'Final Accuracy: {accuracy * 100:.2f}%')\n",
    "\n",
    "classes = ['anger', 'joy', 'neutral']\n",
    "confusion = confusion_matrix(resnet_custom_targets, resnet_custom_predictions)\n",
    "plt.figure(figsize=(8, 6))\n",
    "sns.set(font_scale=1.2)  # Ajusta o tamanho da fonte para tornar o gráfico mais legível\n",
    "sns.heatmap(confusion, annot=True, fmt='g', cmap='Blues', xticklabels=classes, yticklabels=classes)\n",
    "plt.xlabel('Predicted Labels')\n",
    "plt.ylabel('True Labels')\n",
    "plt.title('Confusion Matrix')\n",
    "plt.show()"
   ]
  },
  {
   "cell_type": "markdown",
   "metadata": {
    "jp-MarkdownHeadingCollapsed": true,
    "tags": []
   },
   "source": [
    "#### ResNet-18 network with pre-training"
   ]
  },
  {
   "cell_type": "code",
   "execution_count": 17,
   "metadata": {},
   "outputs": [
    {
     "name": "stdout",
     "output_type": "stream",
     "text": [
      "Epoch [1/10], Step [1/180], Loss: 1.5010\n",
      "Epoch [1/10], Step [101/180], Loss: 1.1633\n",
      "Validation Accuracy: 34.42%\n",
      "Epoch [2/10], Step [1/180], Loss: 0.9962\n",
      "Epoch [2/10], Step [101/180], Loss: 1.0902\n",
      "Validation Accuracy: 39.41%\n",
      "Epoch [3/10], Step [1/180], Loss: 1.0059\n",
      "Epoch [3/10], Step [101/180], Loss: 0.8875\n",
      "Validation Accuracy: 35.20%\n",
      "Epoch [4/10], Step [1/180], Loss: 0.8928\n",
      "Epoch [4/10], Step [101/180], Loss: 1.0283\n",
      "Validation Accuracy: 42.52%\n",
      "Epoch [5/10], Step [1/180], Loss: 0.9151\n",
      "Epoch [5/10], Step [101/180], Loss: 1.0011\n",
      "Validation Accuracy: 36.45%\n",
      "Epoch [6/10], Step [1/180], Loss: 0.8707\n",
      "Epoch [6/10], Step [101/180], Loss: 0.8769\n",
      "Validation Accuracy: 37.23%\n",
      "Epoch [7/10], Step [1/180], Loss: 0.8001\n",
      "Epoch [7/10], Step [101/180], Loss: 0.7272\n",
      "Validation Accuracy: 37.07%\n",
      "Epoch [8/10], Step [1/180], Loss: 0.5117\n",
      "Epoch [8/10], Step [101/180], Loss: 0.7023\n",
      "Validation Accuracy: 37.07%\n",
      "Epoch [9/10], Step [1/180], Loss: 0.4387\n",
      "Epoch [9/10], Step [101/180], Loss: 0.4867\n",
      "Validation Accuracy: 39.41%\n",
      "Epoch [10/10], Step [1/180], Loss: 0.5294\n",
      "Epoch [10/10], Step [101/180], Loss: 0.7134\n",
      "Validation Accuracy: 40.19%\n",
      "Training finished.\n",
      "Final Accuracy: 40.19%\n"
     ]
    },
    {
     "data": {
      "image/png": "[encoded data removed]",
      "text/plain": [
       "<Figure size 576x432 with 2 Axes>"
      ]
     },
     "metadata": {},
     "output_type": "display_data"
    }
   ],
   "source": [
    "num_classes = 3\n",
    "\n",
    "resnet18 = models.resnet18(pretrained=True)\n",
    "resnet18.fc = nn.Linear(resnet18.fc.in_features, num_classes)\n",
    "\n",
    "# Loss function and optimizer\n",
    "criterion = nn.CrossEntropyLoss()\n",
    "optimizer = torch.optim.Adam(resnet18.parameters(), lr=0.001)\n",
    "\n",
    "# Train the model\n",
    "num_epochs = 10\n",
    "device = torch.device(\"cuda\" if torch.cuda.is_available() else \"cpu\")\n",
    "resnet18.to(device)\n",
    "\n",
    "for epoch in range(num_epochs):\n",
    "    resnet18.train()\n",
    "    for batch_idx, (inputs, targets) in enumerate(train_data):\n",
    "        inputs, targets = inputs.to(device), targets.to(device)\n",
    "        optimizer.zero_grad()\n",
    "        outputs = resnet18(inputs)\n",
    "        loss = criterion(outputs, targets)\n",
    "        loss.backward()\n",
    "        optimizer.step()\n",
    "\n",
    "        if batch_idx % 100 == 0:\n",
    "            print(f'Epoch [{epoch+1}/{num_epochs}], Step [{batch_idx+1}/{len(train_data)}], Loss: {loss.item():.4f}')\n",
    "\n",
    "    # Validation\n",
    "    resnet18.eval()\n",
    "    resnet_predictions = []\n",
    "    resnet_targets = []\n",
    "    with torch.no_grad():\n",
    "        correct = 0\n",
    "        total = 0\n",
    "        for inputs, targets in dev_data:\n",
    "            inputs, targets = inputs.to(device), targets.to(device)\n",
    "            outputs = resnet18(inputs)\n",
    "            _, predicted = torch.max(outputs.data, 1)\n",
    "            total += targets.size(0)\n",
    "            correct += (predicted == targets).sum().item()\n",
    "            resnet_predictions.extend(predicted.cpu().numpy().tolist())\n",
    "            resnet_targets.extend(targets.cpu().numpy().tolist())\n",
    "\n",
    "        accuracy = 100 * correct / total\n",
    "        print(f'Validation Accuracy: {accuracy:.2f}%')\n",
    "\n",
    "print('Training finished.')\n",
    "\n",
    "# Calcula a accuracy final\n",
    "accuracy = accuracy_score(resnet_targets, resnet_predictions)\n",
    "print(f'Final Accuracy: {accuracy * 100:.2f}%')\n",
    "\n",
    "classes = ['anger', 'joy', 'neutral']\n",
    "confusion = confusion_matrix(resnet_targets, resnet_predictions)\n",
    "plt.figure(figsize=(8, 6))\n",
    "sns.set(font_scale=1.2)  # Ajusta o tamanho da fonte para tornar o gráfico mais legível\n",
    "sns.heatmap(confusion, annot=True, fmt='g', cmap='Blues', xticklabels=classes, yticklabels=classes)\n",
    "plt.xlabel('Predicted Labels')\n",
    "plt.ylabel('True Labels')\n",
    "plt.title('Confusion Matrix')\n",
    "plt.show()"
   ]
  },
  {
   "cell_type": "code",
   "execution_count": 18,
   "metadata": {},
   "outputs": [],
   "source": [
    "#Com isto conseguimos forçar que as labels estejam de acordo com a classe em que se encontram\n",
    "df = pd.DataFrame({'images':file_name_dev,'label': resnet_predictions})\n",
    "\n",
    "df['scene'] = df['images'].str[:-5]\n",
    "scene_modes = df.groupby('scene')['label'].agg(mode).reset_index()\n",
    "scene_modes.columns = ['scene', 'mode_label']\n",
    "\n",
    "result_df = df.merge(scene_modes, on='scene', how='left')\n",
    "result_df.drop(columns=['scene'], inplace=True)\n",
    "\n",
    "result_df['mode_label'] = result_df.apply(lambda row: row['label'] if row['mode_label'] == 999 else row['mode_label'], axis=1)\n",
    "\n",
    "new_labels = result_df['mode_label'].to_list()"
   ]
  },
  {
   "cell_type": "code",
   "execution_count": 19,
   "metadata": {
    "tags": []
   },
   "outputs": [
    {
     "name": "stdout",
     "output_type": "stream",
     "text": [
      "Final Accuracy: 38.47%\n"
     ]
    },
    {
     "data": {
      "image/png": "[encoded data removed]",
      "text/plain": [
       "<Figure size 576x432 with 2 Axes>"
      ]
     },
     "metadata": {},
     "output_type": "display_data"
    }
   ],
   "source": [
    "# Conseguimos concluir que o nosso processo faz variar a accuracy do modelo\n",
    "accuracy = accuracy_score(resnet_targets, new_labels)\n",
    "print(f'Final Accuracy: {accuracy * 100:.2f}%')\n",
    "\n",
    "classes = ['anger', 'joy', 'neutral']\n",
    "confusion = confusion_matrix(resnet_targets, new_labels)\n",
    "plt.figure(figsize=(8, 6))\n",
    "sns.set(font_scale=1.2)  # Ajusta o tamanho da fonte para tornar o gráfico mais legível\n",
    "sns.heatmap(confusion, annot=True, fmt='g', cmap='Blues', xticklabels=classes, yticklabels=classes)\n",
    "plt.xlabel('Predicted Labels')\n",
    "plt.ylabel('True Labels')\n",
    "plt.title('Confusion Matrix')\n",
    "plt.show()"
   ]
  },
  {
   "cell_type": "markdown",
   "metadata": {
    "jp-MarkdownHeadingCollapsed": true,
    "tags": []
   },
   "source": [
    "#### ResNet-50 with pre-training"
   ]
  },
  {
   "cell_type": "code",
   "execution_count": 23,
   "metadata": {
    "tags": []
   },
   "outputs": [
    {
     "name": "stderr",
     "output_type": "stream",
     "text": [
      "Downloading: \"https://download.pytorch.org/models/resnet50-0676ba61.pth\" to /home/aarso2/.cache/torch/hub/checkpoints/resnet50-0676ba61.pth\n",
      "100%|██████████████████████████████████████████████████████████████████████████████| 97.8M/97.8M [00:07<00:00, 13.9MB/s]\n"
     ]
    },
    {
     "name": "stdout",
     "output_type": "stream",
     "text": [
      "Epoch [1/10], Step [1/180], Loss: 1.1082\n",
      "Epoch [1/10], Step [101/180], Loss: 1.0714\n",
      "Validation Accuracy: 36.14%\n",
      "Epoch [2/10], Step [1/180], Loss: 1.1242\n",
      "Epoch [2/10], Step [101/180], Loss: 1.0152\n",
      "Validation Accuracy: 36.92%\n",
      "Epoch [3/10], Step [1/180], Loss: 1.1552\n",
      "Epoch [3/10], Step [101/180], Loss: 1.0371\n",
      "Validation Accuracy: 35.67%\n",
      "Epoch [4/10], Step [1/180], Loss: 1.0720\n",
      "Epoch [4/10], Step [101/180], Loss: 0.9973\n",
      "Validation Accuracy: 35.36%\n",
      "Epoch [5/10], Step [1/180], Loss: 1.0637\n",
      "Epoch [5/10], Step [101/180], Loss: 1.1146\n",
      "Validation Accuracy: 37.38%\n",
      "Epoch [6/10], Step [1/180], Loss: 0.9248\n",
      "Epoch [6/10], Step [101/180], Loss: 1.1232\n",
      "Validation Accuracy: 40.50%\n",
      "Epoch [7/10], Step [1/180], Loss: 1.0066\n",
      "Epoch [7/10], Step [101/180], Loss: 1.1188\n",
      "Validation Accuracy: 35.83%\n",
      "Epoch [8/10], Step [1/180], Loss: 1.0046\n",
      "Epoch [8/10], Step [101/180], Loss: 1.0773\n",
      "Validation Accuracy: 41.28%\n",
      "Epoch [9/10], Step [1/180], Loss: 0.8088\n",
      "Epoch [9/10], Step [101/180], Loss: 0.8473\n",
      "Validation Accuracy: 39.10%\n",
      "Epoch [10/10], Step [1/180], Loss: 1.0573\n",
      "Epoch [10/10], Step [101/180], Loss: 0.9819\n",
      "Validation Accuracy: 35.83%\n",
      "Training finished.\n",
      "Final Accuracy: 35.83%\n"
     ]
    },
    {
     "data": {
      "image/png": "[encoded data removed]",
      "text/plain": [
       "<Figure size 576x432 with 2 Axes>"
      ]
     },
     "metadata": {},
     "output_type": "display_data"
    }
   ],
   "source": [
    "num_classes = 3\n",
    "\n",
    "resnet18 = models.resnet50(pretrained=True)\n",
    "resnet18.fc = nn.Linear(resnet18.fc.in_features, num_classes)\n",
    "\n",
    "# Loss function and optimizer\n",
    "criterion = nn.CrossEntropyLoss()\n",
    "optimizer = torch.optim.Adam(resnet18.parameters(), lr=0.001)\n",
    "\n",
    "# Train the model\n",
    "num_epochs = 10\n",
    "device = torch.device(\"cuda\" if torch.cuda.is_available() else \"cpu\")\n",
    "resnet18.to(device)\n",
    "\n",
    "for epoch in range(num_epochs):\n",
    "    resnet18.train()\n",
    "    for batch_idx, (inputs, targets) in enumerate(train_data):\n",
    "        inputs, targets = inputs.to(device), targets.to(device)\n",
    "        optimizer.zero_grad()\n",
    "        outputs = resnet18(inputs)\n",
    "        loss = criterion(outputs, targets)\n",
    "        loss.backward()\n",
    "        optimizer.step()\n",
    "\n",
    "        if batch_idx % 100 == 0:\n",
    "            print(f'Epoch [{epoch+1}/{num_epochs}], Step [{batch_idx+1}/{len(train_data)}], Loss: {loss.item():.4f}')\n",
    "\n",
    "    # Validation\n",
    "    resnet18.eval()\n",
    "    resnet_predictions = []\n",
    "    resnet_targets = []\n",
    "    with torch.no_grad():\n",
    "        correct = 0\n",
    "        total = 0\n",
    "        for inputs, targets in dev_data:\n",
    "            inputs, targets = inputs.to(device), targets.to(device)\n",
    "            outputs = resnet18(inputs)\n",
    "            _, predicted = torch.max(outputs.data, 1)\n",
    "            total += targets.size(0)\n",
    "            correct += (predicted == targets).sum().item()\n",
    "            resnet_predictions.extend(predicted.cpu().numpy().tolist())\n",
    "            resnet_targets.extend(targets.cpu().numpy().tolist())\n",
    "\n",
    "        accuracy = 100 * correct / total\n",
    "        print(f'Validation Accuracy: {accuracy:.2f}%')\n",
    "\n",
    "print('Training finished.')\n",
    "\n",
    "# Calcula a accuracy final\n",
    "accuracy = accuracy_score(resnet_targets, resnet_predictions)\n",
    "print(f'Final Accuracy: {accuracy * 100:.2f}%')\n",
    "\n",
    "classes = ['anger', 'joy', 'neutral']\n",
    "confusion = confusion_matrix(resnet_targets, resnet_predictions)\n",
    "plt.figure(figsize=(8, 6))\n",
    "sns.set(font_scale=1.2)  # Ajusta o tamanho da fonte para tornar o gráfico mais legível\n",
    "sns.heatmap(confusion, annot=True, fmt='g', cmap='Blues', xticklabels=classes, yticklabels=classes)\n",
    "plt.xlabel('Predicted Labels')\n",
    "plt.ylabel('True Labels')\n",
    "plt.title('Confusion Matrix')\n",
    "plt.show()"
   ]
  },
  {
   "cell_type": "markdown",
   "metadata": {},
   "source": [
    "#### Hyperparameter Tuning"
   ]
  },
  {
   "cell_type": "code",
   "execution_count": 30,
   "metadata": {
    "tags": []
   },
   "outputs": [],
   "source": [
    "class DatasetEmotionsBest(torch.utils.data.Dataset):\n",
    "    def __init__(self,path, transforms = None):\n",
    "        super().__init__()\n",
    "        self.path = path\n",
    "        self.images = glob.glob(os.path.join(self.path,\"*_oneface/*\"))\n",
    "        self.labels = {\"anger\":0,\"joy\":1,\"neutral\":2}\n",
    "        self.transforms = transforms\n",
    "    def __getimages__(self):\n",
    "        return self.images\n",
    "    def __getitem__(self,idx):\n",
    "        image = cv2.imread(self.images[idx])\n",
    "        if self.transforms != None: \n",
    "            image = self.transforms(image)\n",
    "        return image, self.labels[self.images[idx].split(\"/\")[-2].replace(\"_oneface\", \"\")]\n",
    "\n",
    "    def __len__(self):\n",
    "        return len(self.images)"
   ]
  },
  {
   "cell_type": "code",
   "execution_count": 31,
   "metadata": {
    "tags": []
   },
   "outputs": [],
   "source": [
    "# Define your data folder and optional image transformations\n",
    "train_path = cwd+'/BPI-MELD-main/train/train_splits_images/'\n",
    "dev_path = cwd+'/BPI-MELD-main/dev/dev_splits_images/'\n",
    "\n",
    "transforming = T.Compose([T.ToPILImage(), T.Resize((150, 150)), T.ToTensor(), T.Normalize(mean=[0.485, 0.456, 0.406], std=[0.229, 0.224, 0.225])])\n",
    "\n",
    "# Create the custom dataset and data loader\n",
    "train_dataset_best = DatasetEmotionsBest(train_path, transforms=transforming)\n",
    "dev_dataset_best = DatasetEmotionsBest(dev_path, transforms=transforming)\n",
    "train_data_best = DataLoader(train_dataset_best, batch_size=32, shuffle=True)\n",
    "dev_data_best = DataLoader(dev_dataset_best, batch_size=32, shuffle=True)"
   ]
  },
  {
   "cell_type": "code",
   "execution_count": 32,
   "metadata": {
    "tags": []
   },
   "outputs": [],
   "source": [
    "#Get path images\n",
    "path_name_dev = dev_dataset_best.__getimages__()\n",
    "file_name_dev = []\n",
    "\n",
    "for file in path_name_dev:\n",
    "    file_name_dev.append(file.split(\"/\")[-1].replace(\".jpg\", \"\"))"
   ]
  },
  {
   "cell_type": "code",
   "execution_count": 29,
   "metadata": {
    "tags": []
   },
   "outputs": [
    {
     "name": "stdout",
     "output_type": "stream",
     "text": [
      "Epoch [1/10], Step [1/180], Loss: 1.2540\n",
      "Epoch [1/10], Step [101/180], Loss: 1.2167\n",
      "Validation Accuracy: 36.14%\n",
      "Epoch [2/10], Step [1/180], Loss: 0.9833\n",
      "Epoch [2/10], Step [101/180], Loss: 1.1336\n",
      "Validation Accuracy: 39.41%\n",
      "Epoch [3/10], Step [1/180], Loss: 1.0291\n",
      "Epoch [3/10], Step [101/180], Loss: 1.0318\n",
      "Validation Accuracy: 34.89%\n",
      "Epoch [4/10], Step [1/180], Loss: 0.8561\n",
      "Epoch [4/10], Step [101/180], Loss: 0.9683\n",
      "Validation Accuracy: 39.10%\n",
      "Epoch [5/10], Step [1/180], Loss: 0.9989\n",
      "Epoch [5/10], Step [101/180], Loss: 0.9654\n",
      "Validation Accuracy: 36.92%\n",
      "Epoch [6/10], Step [1/180], Loss: 0.8037\n",
      "Epoch [6/10], Step [101/180], Loss: 0.8292\n",
      "Validation Accuracy: 36.14%\n",
      "Epoch [7/10], Step [1/180], Loss: 0.6797\n",
      "Epoch [7/10], Step [101/180], Loss: 0.7266\n",
      "Validation Accuracy: 36.45%\n",
      "Epoch [8/10], Step [1/180], Loss: 0.7004\n",
      "Epoch [8/10], Step [101/180], Loss: 0.6622\n",
      "Validation Accuracy: 33.49%\n",
      "Epoch [9/10], Step [1/180], Loss: 0.4957\n",
      "Epoch [9/10], Step [101/180], Loss: 0.2925\n",
      "Validation Accuracy: 40.81%\n",
      "Epoch [10/10], Step [1/180], Loss: 0.3384\n",
      "Epoch [10/10], Step [101/180], Loss: 0.3145\n",
      "Validation Accuracy: 35.20%\n",
      "Training finished.\n",
      "Final Accuracy: 35.20%\n"
     ]
    },
    {
     "data": {
      "image/png": "[encoded data removed]",
      "text/plain": [
       "<Figure size 576x432 with 2 Axes>"
      ]
     },
     "metadata": {},
     "output_type": "display_data"
    }
   ],
   "source": [
    "num_classes = 3\n",
    "\n",
    "resnet18 = models.resnet18(pretrained=True)\n",
    "resnet18.fc = nn.Linear(resnet18.fc.in_features, num_classes)\n",
    "\n",
    "# Loss function and optimizer\n",
    "criterion = nn.CrossEntropyLoss()\n",
    "optimizer = torch.optim.Adam(resnet18.parameters(), lr=0.001)\n",
    "\n",
    "# Train the model\n",
    "num_epochs = 10\n",
    "device = torch.device(\"cuda\" if torch.cuda.is_available() else \"cpu\")\n",
    "resnet18.to(device)\n",
    "\n",
    "for epoch in range(num_epochs):\n",
    "    resnet18.train()\n",
    "    for batch_idx, (inputs, targets) in enumerate(train_data_best):\n",
    "        inputs, targets = inputs.to(device), targets.to(device)\n",
    "        optimizer.zero_grad()\n",
    "        outputs = resnet18(inputs)\n",
    "        loss = criterion(outputs, targets)\n",
    "        loss.backward()\n",
    "        optimizer.step()\n",
    "\n",
    "        if batch_idx % 100 == 0:\n",
    "            print(f'Epoch [{epoch+1}/{num_epochs}], Step [{batch_idx+1}/{len(train_data_best)}], Loss: {loss.item():.4f}')\n",
    "\n",
    "    # Validation\n",
    "    resnet18.eval()\n",
    "    resnet_predictions = []\n",
    "    resnet_targets = []\n",
    "    with torch.no_grad():\n",
    "        correct = 0\n",
    "        total = 0\n",
    "        for inputs, targets in dev_data_best:\n",
    "            inputs, targets = inputs.to(device), targets.to(device)\n",
    "            outputs = resnet18(inputs)\n",
    "            _, predicted = torch.max(outputs.data, 1)\n",
    "            total += targets.size(0)\n",
    "            correct += (predicted == targets).sum().item()\n",
    "            resnet_predictions.extend(predicted.cpu().numpy().tolist())\n",
    "            resnet_targets.extend(targets.cpu().numpy().tolist())\n",
    "\n",
    "        accuracy = 100 * correct / total\n",
    "        print(f'Validation Accuracy: {accuracy:.2f}%')\n",
    "\n",
    "print('Training finished.')\n",
    "\n",
    "# Calcula a accuracy final\n",
    "accuracy = accuracy_score(resnet_targets, resnet_predictions)\n",
    "print(f'Final Accuracy: {accuracy * 100:.2f}%')\n",
    "\n",
    "classes = ['anger', 'joy', 'neutral']\n",
    "confusion = confusion_matrix(resnet_targets, resnet_predictions)\n",
    "plt.figure(figsize=(8, 6))\n",
    "sns.set(font_scale=1.2)  # Ajusta o tamanho da fonte para tornar o gráfico mais legível\n",
    "sns.heatmap(confusion, annot=True, fmt='g', cmap='Blues', xticklabels=classes, yticklabels=classes)\n",
    "plt.xlabel('Predicted Labels')\n",
    "plt.ylabel('True Labels')\n",
    "plt.title('Confusion Matrix')\n",
    "plt.show()"
   ]
  },
  {
   "cell_type": "code",
   "execution_count": null,
   "metadata": {},
   "outputs": [],
   "source": []
  }
 ],
 "metadata": {
  "kernelspec": {
   "display_name": "Python 3 (ipykernel)",
   "language": "python",
   "name": "python3"
  },
  "language_info": {
   "codemirror_mode": {
    "name": "ipython",
    "version": 3
   },
   "file_extension": ".py",
   "mimetype": "text/x-python",
   "name": "python",
   "nbconvert_exporter": "python",
   "pygments_lexer": "ipython3",
   "version": "3.10.6"
  }
 },
 "nbformat": 4,
 "nbformat_minor": 4
}
