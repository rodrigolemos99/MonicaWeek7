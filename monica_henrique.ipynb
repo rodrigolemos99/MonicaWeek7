{
 "cells": [
  {
   "cell_type": "code",
   "execution_count": 20,
   "metadata": {
    "tags": []
   },
   "outputs": [],
   "source": [
    "import pandas as pd\n",
    "import cv2\n",
    "import numpy as np\n",
    "import matplotlib.pyplot as plt\n",
    "import glob\n",
    "import os\n",
    "from PIL import Image\n",
    "import torch\n",
    "import torch.optim as optim\n",
    "import torch.nn as nn\n",
    "from torch.nn import Flatten\n",
    "import torchvision \n",
    "import torchvision.transforms as T\n",
    "from torch.utils.data import DataLoader, Dataset\n",
    "import seaborn as sns\n",
    "from sklearn.metrics import accuracy_score, confusion_matrix"
   ]
  },
  {
   "cell_type": "code",
   "execution_count": 2,
   "metadata": {
    "tags": []
   },
   "outputs": [
    {
     "data": {
      "text/plain": [
       "'/home/aarso2/BPI/Projeto_Semana6'"
      ]
     },
     "execution_count": 2,
     "metadata": {},
     "output_type": "execute_result"
    }
   ],
   "source": [
    "cwd = os.getcwd()\n",
    "cwd"
   ]
  },
  {
   "cell_type": "markdown",
   "metadata": {},
   "source": [
    "#### Criação do DataLoader de treino e validação"
   ]
  },
  {
   "cell_type": "code",
   "execution_count": 3,
   "metadata": {
    "tags": []
   },
   "outputs": [],
   "source": [
    "class DatasetEmotions(torch.utils.data.Dataset):\n",
    "    def __init__(self,path, transforms = None):\n",
    "        super().__init__()\n",
    "        self.path = path\n",
    "        self.images = glob.glob(os.path.join(self.path,\"*_oneface/*\"))\n",
    "        self.labels = {\"anger\":0,\"joy\":1,\"neutral\":2}\n",
    "        self.transforms = transforms\n",
    "    def __getitem__(self,idx):\n",
    "        image = cv2.imread(self.images[idx])\n",
    "        if self.transforms != None: \n",
    "            image = self.transforms(image)\n",
    "        return image, self.labels[self.images[idx].split(\"/\")[-2].replace(\"_oneface\", \"\")]\n",
    "\n",
    "    def __len__(self):\n",
    "        return len(self.images)"
   ]
  },
  {
   "cell_type": "code",
   "execution_count": 13,
   "metadata": {
    "tags": []
   },
   "outputs": [],
   "source": [
    "# Define your data folder and optional image transformations\n",
    "train_path = cwd+'/BPI-MELD-main/train/train_splits_images/'\n",
    "dev_path = cwd+'/BPI-MELD-main/dev/dev_splits_images/'\n",
    "\n",
    "transforming = T.Compose([T.ToPILImage(), T.Resize((112, 112)), T.ToTensor(), T.Normalize(mean=[0.485, 0.456, 0.406], std=[0.229, 0.224, 0.225])])\n",
    "\n",
    "# Create the custom dataset and data loader\n",
    "train_dataset = DatasetEmotions(train_path, transforms=transforming)\n",
    "dev_dataset = DatasetEmotions(dev_path, transforms=transforming)\n",
    "train_data = DataLoader(train_dataset, batch_size=32, shuffle=True)\n",
    "dev_data = DataLoader(dev_dataset, batch_size=32, shuffle=True)"
   ]
  },
  {
   "cell_type": "code",
   "execution_count": 14,
   "metadata": {},
   "outputs": [
    {
     "name": "stdout",
     "output_type": "stream",
     "text": [
      "Total de amostras no conjunto de dados de treino: 5760\n",
      "Total de amostras no conjunto de dados de teste: 672\n"
     ]
    }
   ],
   "source": [
    "total_samples_train = len(train_data) * train_data.batch_size\n",
    "total_samples_dev = len(dev_data) * dev_data.batch_size\n",
    "print(f\"Total de amostras no conjunto de dados de treino: {total_samples_train}\")\n",
    "print(f\"Total de amostras no conjunto de dados de teste: {total_samples_dev}\")"
   ]
  },
  {
   "cell_type": "markdown",
   "metadata": {},
   "source": [
    "#### Convolutional Neural Network (CNN) baseline"
   ]
  },
  {
   "cell_type": "code",
   "execution_count": 15,
   "metadata": {
    "tags": []
   },
   "outputs": [],
   "source": [
    "# Define the neural network model\n",
    "class EmotionRecognitionNet(nn.Module):\n",
    "    def __init__(self, num_classes):\n",
    "        super(EmotionRecognitionNet, self).__init__()\n",
    "        self.conv_layers = nn.Sequential(\n",
    "            nn.Conv2d(3, 64, kernel_size=3, stride=1, padding=1),\n",
    "            nn.ReLU(),\n",
    "            nn.MaxPool2d(kernel_size=2, stride=2),\n",
    "            nn.Conv2d(64, 128, kernel_size=3, stride=1, padding=1),\n",
    "            nn.ReLU(),\n",
    "            nn.MaxPool2d(kernel_size=2, stride=2),\n",
    "            nn.Conv2d(128, 256, kernel_size=3, stride=1, padding=1),\n",
    "            nn.ReLU(),\n",
    "            nn.MaxPool2d(kernel_size=2, stride=2)\n",
    "        )\n",
    "        self.fc_layers = nn.Sequential(\n",
    "            nn.Linear(256 * (112 // 8) * (112 // 8), 512),\n",
    "            nn.ReLU(),\n",
    "            nn.Dropout(0.5),\n",
    "            nn.Linear(512, num_classes)\n",
    "        )\n",
    "\n",
    "    def forward(self, x):\n",
    "        x = self.conv_layers(x)\n",
    "        x = x.view(x.size(0), -1)  # Flatten the output for fully connected layers\n",
    "        x = self.fc_layers(x)\n",
    "        return x"
   ]
  },
  {
   "cell_type": "code",
   "execution_count": 21,
   "metadata": {
    "tags": []
   },
   "outputs": [
    {
     "name": "stdout",
     "output_type": "stream",
     "text": [
      "Final Accuracy: 35.51%\n"
     ]
    },
    {
     "data": {
      "image/png": "[encoded data removed]",
      "text/plain": [
       "<Figure size 576x432 with 2 Axes>"
      ]
     },
     "metadata": {
      "needs_background": "light"
     },
     "output_type": "display_data"
    }
   ],
   "source": [
    "\"\"\"\n",
    "# Number of emotion classes\n",
    "num_classes = 3\n",
    "device = torch.device(\"cuda\" if torch.cuda.is_available() else \"cpu\")\n",
    "\n",
    "# Initialize the model, loss function, and optimizer\n",
    "model = EmotionRecognitionNet(num_classes)\n",
    "criterion = nn.CrossEntropyLoss()\n",
    "optimizer = optim.Adam(model.parameters(), lr=0.001)\n",
    "\n",
    "# Training loop (assuming you have train_data DataLoader)\n",
    "num_epochs = 10\n",
    "\n",
    "for epoch in range(num_epochs):\n",
    "    model.train()  # Set the model to training mode\n",
    "    for batch_idx, (inputs, targets) in enumerate(train_data):\n",
    "        # Move inputs and targets to the device (CPU or GPU)\n",
    "        inputs, targets = inputs.to(device), targets.to(device)\n",
    "        \n",
    "        # Zero the gradients\n",
    "        optimizer.zero_grad()\n",
    "        \n",
    "        # Forward pass\n",
    "        outputs = model(inputs)\n",
    "        \n",
    "        # Calculate the loss\n",
    "        loss = criterion(outputs, targets)\n",
    "        \n",
    "        # Backward pass and optimization\n",
    "        loss.backward()\n",
    "        optimizer.step()\n",
    "        \n",
    "        # Print training progress\n",
    "        if batch_idx % 100 == 0:\n",
    "            print(f'Epoch [{epoch + 1}/{num_epochs}], Step [{batch_idx + 1}/{len(train_data)}], Loss: {loss.item():.4f}')\n",
    "\n",
    "    # Validation\n",
    "    model.eval()  # Set the model to evaluation mode\n",
    "    all_predictions = []\n",
    "    all_targets = []\n",
    "    with torch.no_grad():\n",
    "        correct = 0\n",
    "        total = 0\n",
    "        for inputs, targets in dev_data:\n",
    "            inputs, targets = inputs.to(device), targets.to(device)\n",
    "            outputs = model(inputs)\n",
    "            _, predicted = torch.max(outputs.data, 1)\n",
    "            total += targets.size(0)\n",
    "            correct += (predicted == targets).sum().item()\n",
    "            all_predictions.extend(predicted.cpu().numpy().tolist())\n",
    "            all_targets.extend(targets.cpu().numpy().tolist())\n",
    "\n",
    "        accuracy = 100 * correct / total\n",
    "        print(f'Validation Accuracy: {accuracy:.2f}%')\n",
    "\n",
    "print('Training finished.')\n",
    "\"\"\"\n",
    "# Calcula a precisão final\n",
    "accuracy = accuracy_score(all_targets, all_predictions)\n",
    "print(f'Final Accuracy: {accuracy * 100:.2f}%')\n",
    "\n",
    "classes = ['anger', 'joy', 'neutral']\n",
    "confusion = confusion_matrix(all_targets, all_predictions)\n",
    "plt.figure(figsize=(8, 6))\n",
    "sns.set(font_scale=1.2)  # Ajusta o tamanho da fonte para tornar o gráfico mais legível\n",
    "sns.heatmap(confusion, annot=True, fmt='g', cmap='Blues', xticklabels=classes, yticklabels=classes)\n",
    "plt.xlabel('Predicted Labels')\n",
    "plt.ylabel('True Labels')\n",
    "plt.title('Confusion Matrix')\n",
    "plt.show()"
   ]
  },
  {
   "cell_type": "code",
   "execution_count": null,
   "metadata": {},
   "outputs": [],
   "source": []
  },
  {
   "cell_type": "markdown",
   "metadata": {},
   "source": [
    "#### Another CNN network"
   ]
  },
  {
   "cell_type": "code",
   "execution_count": null,
   "metadata": {},
   "outputs": [],
   "source": [
    "class Face_Emotion_CNN(nn.Module):\n",
    "  \n",
    "    def __init__(self):\n",
    "        super(Face_Emotion_CNN, self).__init__()\n",
    "        self.cnn1 = nn.Conv2d(in_channels=1, out_channels=8, kernel_size=3)\n",
    "        self.cnn2 = nn.Conv2d(in_channels=8, out_channels=16, kernel_size=3)\n",
    "        self.cnn3 = nn.Conv2d(in_channels=16, out_channels=32, kernel_size=3)\n",
    "        self.cnn4 = nn.Conv2d(in_channels=32, out_channels=64, kernel_size=3)\n",
    "        self.cnn5 = nn.Conv2d(in_channels=64, out_channels=128, kernel_size=3)\n",
    "        self.cnn6 = nn.Conv2d(in_channels=128, out_channels=256, kernel_size=3)\n",
    "        self.cnn7 = nn.Conv2d(in_channels=256, out_channels=256, kernel_size=3)\n",
    "        self.relu = nn.ReLU()\n",
    "        self.pool1 = nn.MaxPool2d(2, 1)\n",
    "        self.pool2 = nn.MaxPool2d(2, 2)\n",
    "        self.cnn1_bn = nn.BatchNorm2d(8)\n",
    "        self.cnn2_bn = nn.BatchNorm2d(16)\n",
    "        self.cnn3_bn = nn.BatchNorm2d(32)\n",
    "        self.cnn4_bn = nn.BatchNorm2d(64)\n",
    "        self.cnn5_bn = nn.BatchNorm2d(128)\n",
    "        self.cnn6_bn = nn.BatchNorm2d(256)\n",
    "        self.cnn7_bn = nn.BatchNorm2d(256)\n",
    "        self.fc1 = nn.Linear(1024, 512)\n",
    "        self.fc2 = nn.Linear(512, 256)\n",
    "        self.fc3 = nn.Linear(256, 7)\n",
    "        self.dropout = nn.Dropout(0.3)\n",
    "        self.log_softmax = nn.LogSoftmax(dim=1)\n",
    "    \n",
    "    def forward(self, x):\n",
    "        x = self.relu(self.pool1(self.cnn1_bn(self.cnn1(x))))\n",
    "        x = self.relu(self.pool1(self.cnn2_bn(self.dropout(self.cnn2(x)))))\n",
    "        x = self.relu(self.pool1(self.cnn3_bn(self.cnn3(x))))\n",
    "        x = self.relu(self.pool1(self.cnn4_bn(self.dropout(self.cnn4(x)))))\n",
    "        x = self.relu(self.pool2(self.cnn5_bn(self.cnn5(x))))\n",
    "        x = self.relu(self.pool2(self.cnn6_bn(self.dropout(self.cnn6(x)))))\n",
    "        x = self.relu(self.pool2(self.cnn7_bn(self.dropout(self.cnn7(x)))))\n",
    "\n",
    "        x = x.view(x.size(0), -1)\n",
    "\n",
    "        x = self.relu(self.dropout(self.fc1(x)))\n",
    "        x = self.relu(self.dropout(self.fc2(x)))\n",
    "        x = self.log_softmax(self.fc3(x))\n",
    "        return x\n",
    "\n",
    "    def count_parameters(self):\n",
    "        return sum(p.numel() for p in self.parameters() if p.requires_grad)"
   ]
  },
  {
   "cell_type": "code",
   "execution_count": null,
   "metadata": {},
   "outputs": [],
   "source": [
    "face_cnn = Face_Emotion_CNN()\n",
    "device = torch.device(\"cuda\" if torch.cuda.is_available() else \"cpu\")\n",
    "epochs=10\n",
    "\n",
    "criterion = nn.NLLLoss()\n",
    "optimizer = torch.optim.Adam(face_cnn.parameters(), lr=1e-3)\n",
    "valid_loss_min = np.Inf\n",
    "train_losses, test_losses = [], []\n",
    "\n",
    "    for e in range(epochs):\n",
    "        face_cnn.train()\n",
    "        running_loss = 0\n",
    "        tr_accuracy = 0\n",
    "        for images, labels in train_data:\n",
    "            images, labels = images.to(device), labels.to(device)\n",
    "            optimizer.zero_grad()\n",
    "            \n",
    "            log_ps  = model(images)\n",
    "            loss = criterion(log_ps, labels)\n",
    "            loss.backward()\n",
    "            optimizer.step()\n",
    "            \n",
    "            running_loss += loss.item()\n",
    "            \n",
    "            ps = torch.exp(log_ps)\n",
    "            top_p, top_class = ps.topk(1, dim=1)\n",
    "            equals = top_class == labels.view(*top_class.shape)\n",
    "            tr_accuracy += torch.mean(equals.type(torch.FloatTensor))\n",
    "        else:\n",
    "            test_loss = 0\n",
    "            accuracy = 0\n",
    "            with torch.no_grad():\n",
    "                face_cnn.eval()\n",
    "                for images, labels in dev_data:\n",
    "                    images, labels = images.to(device), labels.to(device)\n",
    "                    log_ps = model(images)\n",
    "                    test_loss += criterion(log_ps, labels)\n",
    "                    \n",
    "                    ps = torch.exp(log_ps)\n",
    "                    top_p, top_class = ps.topk(1, dim=1)\n",
    "                    equals = top_class == labels.view(*top_class.shape)\n",
    "                    accuracy += torch.mean(equals.type(torch.FloatTensor))\n",
    "            \n",
    "            train_losses.append(running_loss/len(train_data))\n",
    "            test_losses.append(test_loss/len(dev_data))\n",
    "\n",
    "            print(\"Epoch: {}/{} \".format(e+1, epochs),\n",
    "                \"Training Loss: {:.3f} \".format(train_losses[-1]),\n",
    "                \"Training Acc: {:.3f} \".format(tr_accuracy/len(train_data)),\n",
    "                \"Val Loss: {:.3f} \".format(test_losses[-1]),\n",
    "                \"Val Acc: {:.3f}\".format(accuracy/len(dev_data)))\n",
    "        \n",
    "plt.plot(train_losses, 'b', label='Training Loss')\n",
    "plt.plot(test_losses, 'r', label='Validation Loss')\n",
    "plt.show()"
   ]
  }
 ],
 "metadata": {
  "kernelspec": {
   "display_name": "Python 3 (ipykernel)",
   "language": "python",
   "name": "python3"
  },
  "language_info": {
   "codemirror_mode": {
    "name": "ipython",
    "version": 3
   },
   "file_extension": ".py",
   "mimetype": "text/x-python",
   "name": "python",
   "nbconvert_exporter": "python",
   "pygments_lexer": "ipython3",
   "version": "3.10.6"
  }
 },
 "nbformat": 4,
 "nbformat_minor": 4
}
